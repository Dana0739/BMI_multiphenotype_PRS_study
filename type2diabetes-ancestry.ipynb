{
 "cells": [
  {
   "cell_type": "markdown",
   "id": "57f7f02e-5311-4adf-8fba-38e2a5d4a8a6",
   "metadata": {},
   "source": [
    "# Upload and Prepare Phenotype Model"
   ]
  },
  {
   "cell_type": "code",
   "execution_count": 1,
   "id": "4ae7e41f-8b16-4789-bacf-de41274a8afe",
   "metadata": {},
   "outputs": [],
   "source": [
    "import pandas as pd\n",
    "import numpy as np"
   ]
  },
  {
   "cell_type": "markdown",
   "id": "144525f5-1f2d-4a49-bef9-94d4fba1069a",
   "metadata": {},
   "source": [
    "## Upload model"
   ]
  },
  {
   "cell_type": "markdown",
   "id": "6b9f7f8b-f628-4be2-b7f6-c5ad67cd2828",
   "metadata": {},
   "source": [
    "Inputs for type 2 diabetes should be:\n",
    "- type2diabetesAncestry\n",
    "- MONDO_0005148"
   ]
  },
  {
   "cell_type": "code",
   "execution_count": 2,
   "id": "52469a1a-409c-4787-aa73-25ba01ffc23a",
   "metadata": {},
   "outputs": [
    {
     "name": "stdout",
     "output_type": "stream",
     "text": [
      "Enter the phenotype:\n"
     ]
    },
    {
     "name": "stdin",
     "output_type": "stream",
     "text": [
      " type2diabetesAncestry\n"
     ]
    },
    {
     "name": "stdout",
     "output_type": "stream",
     "text": [
      "Enter the MONDO id:\n"
     ]
    },
    {
     "name": "stdin",
     "output_type": "stream",
     "text": [
      " MONDO_0005148\n"
     ]
    }
   ],
   "source": [
    "print(\"Enter the phenotype:\")\n",
    "phenotype = input()\n",
    "\n",
    "print(\"Enter the MONDO id:\")\n",
    "mondoId = input()"
   ]
  },
  {
   "cell_type": "code",
   "execution_count": 3,
   "id": "4c90b161-16be-46d2-943c-2bfaed4a32e3",
   "metadata": {
    "scrolled": true
   },
   "outputs": [],
   "source": [
    "!mkdir {phenotype}\n",
    "!mkdir {phenotype}/model\n",
    "#!pgscatalog-download --efo {mondoId} -b GRCh37 -o {phenotype}/model"
   ]
  },
  {
   "cell_type": "markdown",
   "id": "4eb90800-9e14-4dc1-8c84-0dfa0b04d20e",
   "metadata": {},
   "source": [
    "## Combine model"
   ]
  },
  {
   "cell_type": "code",
   "execution_count": 5,
   "id": "ddfb7743-b785-4073-b4f7-b33c36b56a37",
   "metadata": {
    "scrolled": true
   },
   "outputs": [
    {
     "data": {
      "text/plain": [
       "'type2diabetes/model/PGS000014_hmPOS_GRCh37.txt.gz type2diabetes/model/PGS000020_hmPOS_GRCh37.txt.gz type2diabetes/model/PGS000031_hmPOS_GRCh37.txt.gz type2diabetes/model/PGS000032_hmPOS_GRCh37.txt.gz type2diabetes/model/PGS000033_hmPOS_GRCh37.txt.gz type2diabetes/model/PGS000036_hmPOS_GRCh37.txt.gz type2diabetes/model/PGS000125_hmPOS_GRCh37.txt.gz type2diabetes/model/PGS000330_hmPOS_GRCh37.txt.gz type2diabetes/model/PGS000712_hmPOS_GRCh37.txt.gz type2diabetes/model/PGS000713_hmPOS_GRCh37.txt.gz type2diabetes/model/PGS000729_hmPOS_GRCh37.txt.gz type2diabetes/model/PGS000804_hmPOS_GRCh37.txt.gz type2diabetes/model/PGS000805_hmPOS_GRCh37.txt.gz type2diabetes/model/PGS000806_hmPOS_GRCh37.txt.gz type2diabetes/model/PGS000807_hmPOS_GRCh37.txt.gz type2diabetes/model/PGS000808_hmPOS_GRCh37.txt.gz type2diabetes/model/PGS000832_hmPOS_GRCh37.txt.gz type2diabetes/model/PGS000848_hmPOS_GRCh37.txt.gz type2diabetes/model/PGS000849_hmPOS_GRCh37.txt.gz type2diabetes/model/PGS000850_hmPOS_GRCh37.txt.gz type2diabetes/model/PGS000851_hmPOS_GRCh37.txt.gz type2diabetes/model/PGS000852_hmPOS_GRCh37.txt.gz type2diabetes/model/PGS000853_hmPOS_GRCh37.txt.gz type2diabetes/model/PGS000854_hmPOS_GRCh37.txt.gz type2diabetes/model/PGS000855_hmPOS_GRCh37.txt.gz type2diabetes/model/PGS000856_hmPOS_GRCh37.txt.gz type2diabetes/model/PGS000857_hmPOS_GRCh37.txt.gz type2diabetes/model/PGS000858_hmPOS_GRCh37.txt.gz type2diabetes/model/PGS000864_hmPOS_GRCh37.txt.gz type2diabetes/model/PGS000868_hmPOS_GRCh37.txt.gz type2diabetes/model/PGS001294_hmPOS_GRCh37.txt.gz type2diabetes/model/PGS001295_hmPOS_GRCh37.txt.gz type2diabetes/model/PGS001357_hmPOS_GRCh37.txt.gz type2diabetes/model/PGS001781_hmPOS_GRCh37.txt.gz type2diabetes/model/PGS001818_hmPOS_GRCh37.txt.gz type2diabetes/model/PGS002026_hmPOS_GRCh37.txt.gz type2diabetes/model/PGS002243_hmPOS_GRCh37.txt.gz type2diabetes/model/PGS002277_hmPOS_GRCh37.txt.gz type2diabetes/model/PGS002308_hmPOS_GRCh37.txt.gz type2diabetes/model/PGS002354_hmPOS_GRCh37.txt.gz type2diabetes/model/PGS002379_hmPOS_GRCh37.txt.gz type2diabetes/model/PGS002426_hmPOS_GRCh37.txt.gz type2diabetes/model/PGS002475_hmPOS_GRCh37.txt.gz type2diabetes/model/PGS002524_hmPOS_GRCh37.txt.gz type2diabetes/model/PGS002573_hmPOS_GRCh37.txt.gz type2diabetes/model/PGS002622_hmPOS_GRCh37.txt.gz type2diabetes/model/PGS002671_hmPOS_GRCh37.txt.gz type2diabetes/model/PGS002720_hmPOS_GRCh37.txt.gz type2diabetes/model/PGS002733_hmPOS_GRCh37.txt.gz type2diabetes/model/PGS002771_hmPOS_GRCh37.txt.gz type2diabetes/model/PGS002779_hmPOS_GRCh37.txt.gz type2diabetes/model/PGS002780_hmPOS_GRCh37.txt.gz type2diabetes/model/PGS003089_hmPOS_GRCh37.txt.gz type2diabetes/model/PGS003090_hmPOS_GRCh37.txt.gz type2diabetes/model/PGS003091_hmPOS_GRCh37.txt.gz type2diabetes/model/PGS003092_hmPOS_GRCh37.txt.gz type2diabetes/model/PGS003093_hmPOS_GRCh37.txt.gz type2diabetes/model/PGS003094_hmPOS_GRCh37.txt.gz type2diabetes/model/PGS003095_hmPOS_GRCh37.txt.gz type2diabetes/model/PGS003096_hmPOS_GRCh37.txt.gz type2diabetes/model/PGS003097_hmPOS_GRCh37.txt.gz type2diabetes/model/PGS003098_hmPOS_GRCh37.txt.gz type2diabetes/model/PGS003099_hmPOS_GRCh37.txt.gz type2diabetes/model/PGS003100_hmPOS_GRCh37.txt.gz type2diabetes/model/PGS003101_hmPOS_GRCh37.txt.gz type2diabetes/model/PGS003102_hmPOS_GRCh37.txt.gz type2diabetes/model/PGS003103_hmPOS_GRCh37.txt.gz type2diabetes/model/PGS003104_hmPOS_GRCh37.txt.gz type2diabetes/model/PGS003105_hmPOS_GRCh37.txt.gz type2diabetes/model/PGS003106_hmPOS_GRCh37.txt.gz type2diabetes/model/PGS003107_hmPOS_GRCh37.txt.gz type2diabetes/model/PGS003108_hmPOS_GRCh37.txt.gz type2diabetes/model/PGS003109_hmPOS_GRCh37.txt.gz type2diabetes/model/PGS003110_hmPOS_GRCh37.txt.gz type2diabetes/model/PGS003111_hmPOS_GRCh37.txt.gz type2diabetes/model/PGS003112_hmPOS_GRCh37.txt.gz type2diabetes/model/PGS003113_hmPOS_GRCh37.txt.gz type2diabetes/model/PGS003114_hmPOS_GRCh37.txt.gz type2diabetes/model/PGS003115_hmPOS_GRCh37.txt.gz type2diabetes/model/PGS003116_hmPOS_GRCh37.txt.gz type2diabetes/model/PGS003117_hmPOS_GRCh37.txt.gz type2diabetes/model/PGS003118_hmPOS_GRCh37.txt.gz type2diabetes/model/PGS003119_hmPOS_GRCh37.txt.gz type2diabetes/model/PGS003120_hmPOS_GRCh37.txt.gz type2diabetes/model/PGS003121_hmPOS_GRCh37.txt.gz type2diabetes/model/PGS003122_hmPOS_GRCh37.txt.gz type2diabetes/model/PGS003123_hmPOS_GRCh37.txt.gz type2diabetes/model/PGS003353_hmPOS_GRCh37.txt.gz type2diabetes/model/PGS003402_hmPOS_GRCh37.txt.gz type2diabetes/model/PGS003443_hmPOS_GRCh37.txt.gz type2diabetes/model/PGS003444_hmPOS_GRCh37.txt.gz type2diabetes/model/PGS003445_hmPOS_GRCh37.txt.gz type2diabetes/model/PGS003728_hmPOS_GRCh37.txt.gz type2diabetes/model/PGS003729_hmPOS_GRCh37.txt.gz type2diabetes/model/PGS003730_hmPOS_GRCh37.txt.gz type2diabetes/model/PGS003731_hmPOS_GRCh37.txt.gz type2diabetes/model/PGS003732_hmPOS_GRCh37.txt.gz type2diabetes/model/PGS003733_hmPOS_GRCh37.txt.gz type2diabetes/model/PGS003734_hmPOS_GRCh37.txt.gz type2diabetes/model/PGS003735_hmPOS_GRCh37.txt.gz type2diabetes/model/PGS003751_hmPOS_GRCh37.txt.gz type2diabetes/model/PGS003752_hmPOS_GRCh37.txt.gz type2diabetes/model/PGS003867_hmPOS_GRCh37.txt.gz type2diabetes/model/PGS003982_hmPOS_GRCh37.txt.gz type2diabetes/model/PGS003998_hmPOS_GRCh37.txt.gz type2diabetes/model/PGS004014_hmPOS_GRCh37.txt.gz type2diabetes/model/PGS004024_hmPOS_GRCh37.txt.gz type2diabetes/model/PGS004039_hmPOS_GRCh37.txt.gz type2diabetes/model/PGS004052_hmPOS_GRCh37.txt.gz type2diabetes/model/PGS004068_hmPOS_GRCh37.txt.gz type2diabetes/model/PGS004082_hmPOS_GRCh37.txt.gz type2diabetes/model/PGS004106_hmPOS_GRCh37.txt.gz type2diabetes/model/PGS004122_hmPOS_GRCh37.txt.gz type2diabetes/model/PGS004136_hmPOS_GRCh37.txt.gz type2diabetes/model/PGS004152_hmPOS_GRCh37.txt.gz type2diabetes/model/PGS004181_hmPOS_GRCh37.txt.gz type2diabetes/model/PGS004182_hmPOS_GRCh37.txt.gz type2diabetes/model/PGS004183_hmPOS_GRCh37.txt.gz type2diabetes/model/PGS004184_hmPOS_GRCh37.txt.gz type2diabetes/model/PGS004185_hmPOS_GRCh37.txt.gz type2diabetes/model/PGS004223_hmPOS_GRCh37.txt.gz type2diabetes/model/PGS004225_hmPOS_GRCh37.txt.gz type2diabetes/model/PGS004226_hmPOS_GRCh37.txt.gz type2diabetes/model/PGS004323_hmPOS_GRCh37.txt.gz type2diabetes/model/PGS004499_hmPOS_GRCh37.txt.gz type2diabetes/model/PGS004569_hmPOS_GRCh37.txt.gz type2diabetes/model/PGS004602_hmPOS_GRCh37.txt.gz type2diabetes/model/PGS004837_hmPOS_GRCh37.txt.gz type2diabetes/model/PGS004838_hmPOS_GRCh37.txt.gz type2diabetes/model/PGS004839_hmPOS_GRCh37.txt.gz type2diabetes/model/PGS004840_hmPOS_GRCh37.txt.gz type2diabetes/model/PGS004859_hmPOS_GRCh37.txt.gz type2diabetes/model/PGS004868_hmPOS_GRCh37.txt.gz'"
      ]
     },
     "execution_count": 5,
     "metadata": {},
     "output_type": "execute_result"
    }
   ],
   "source": [
    "samples = !ls {phenotype}/model\n",
    "samplesList = phenotype + \"/model/\" + (\" \" + phenotype + \"/model/\").join(samples)\n",
    "samplesList"
   ]
  },
  {
   "cell_type": "code",
   "execution_count": 7,
   "id": "a175cfae-13ad-480b-8126-096762b4bf73",
   "metadata": {
    "scrolled": true
   },
   "outputs": [
    {
     "name": "stdout",
     "output_type": "stream",
     "text": [
      "  2%|▌                                        | 2/133 [01:11<1:04:44, 29.65s/it]pgscatalog.core.lib._normalise: 2024-05-04 18:08:32 WARNING  Multiple other_alleles detected in 16 variants\n",
      "pgscatalog.core.lib._normalise: 2024-05-04 18:08:32 WARNING  Other allele for these variants is set to missing\n",
      "pgscatalog.core.lib._normalise: 2024-05-04 18:08:32 WARNING  Multiple other_alleles detected in 5 variants\n",
      "pgscatalog.core.lib._normalise: 2024-05-04 18:08:32 WARNING  Other allele for these variants is set to missing\n",
      "pgscatalog.core.lib._normalise: 2024-05-04 18:08:32 WARNING  Multiple other_alleles detected in 1 variants\n",
      "pgscatalog.core.lib._normalise: 2024-05-04 18:08:32 WARNING  Other allele for these variants is set to missing\n",
      "  8%|███▍                                      | 11/133 [02:32<23:21, 11.49s/it]pgscatalog.core.lib._normalise: 2024-05-04 18:09:54 WARNING  4 bad variants\n",
      "  9%|███▊                                      | 12/133 [02:33<17:22,  8.61s/it]pgscatalog.core.lib._normalise: 2024-05-04 18:09:54 WARNING  4 bad variants\n",
      "pgscatalog.core.lib._normalise: 2024-05-04 18:09:54 WARNING  4 bad variants\n",
      "pgscatalog.core.lib._normalise: 2024-05-04 18:09:54 WARNING  4 bad variants\n",
      "pgscatalog.core.lib._normalise: 2024-05-04 18:09:54 WARNING  4 bad variants\n",
      "pgscatalog.core.lib._normalise: 2024-05-04 18:09:54 WARNING  Multiple other_alleles detected in 72 variants\n",
      "pgscatalog.core.lib._normalise: 2024-05-04 18:09:54 WARNING  Other allele for these variants is set to missing\n",
      "pgscatalog.core.lib._normalise: 2024-05-04 18:09:54 WARNING  Multiple other_alleles detected in 1 variants\n",
      "pgscatalog.core.lib._normalise: 2024-05-04 18:09:54 WARNING  Other allele for these variants is set to missing\n",
      "pgscatalog.core.lib._normalise: 2024-05-04 18:09:54 WARNING  Multiple other_alleles detected in 2 variants\n",
      "pgscatalog.core.lib._normalise: 2024-05-04 18:09:54 WARNING  Other allele for these variants is set to missing\n",
      "pgscatalog.core.lib._normalise: 2024-05-04 18:09:54 WARNING  Multiple other_alleles detected in 8 variants\n",
      "pgscatalog.core.lib._normalise: 2024-05-04 18:09:54 WARNING  Other allele for these variants is set to missing\n",
      "pgscatalog.core.lib._normalise: 2024-05-04 18:09:54 WARNING  Multiple other_alleles detected in 1 variants\n",
      "pgscatalog.core.lib._normalise: 2024-05-04 18:09:54 WARNING  Other allele for these variants is set to missing\n",
      "pgscatalog.core.lib._normalise: 2024-05-04 18:09:54 WARNING  Multiple other_alleles detected in 6 variants\n",
      "pgscatalog.core.lib._normalise: 2024-05-04 18:09:54 WARNING  Other allele for these variants is set to missing\n",
      "pgscatalog.core.lib._normalise: 2024-05-04 18:09:54 WARNING  Multiple other_alleles detected in 7 variants\n",
      "pgscatalog.core.lib._normalise: 2024-05-04 18:09:54 WARNING  Other allele for these variants is set to missing\n",
      "pgscatalog.core.lib._normalise: 2024-05-04 18:09:54 WARNING  Multiple other_alleles detected in 2 variants\n",
      "pgscatalog.core.lib._normalise: 2024-05-04 18:09:54 WARNING  Other allele for these variants is set to missing\n",
      "pgscatalog.core.lib._normalise: 2024-05-04 18:09:54 WARNING  Multiple other_alleles detected in 1 variants\n",
      "pgscatalog.core.lib._normalise: 2024-05-04 18:09:54 WARNING  Other allele for these variants is set to missing\n",
      " 22%|█████████▏                                | 29/133 [02:35<02:17,  1.32s/it]pgscatalog.core.lib._normalise: 2024-05-04 18:09:57 WARNING  4 bad variants\n",
      "pgscatalog.core.lib._normalise: 2024-05-04 18:09:57 WARNING  4 variants have invalid effect alleles (not ACTG)\n",
      "pgscatalog.core.lib._normalise: 2024-05-04 18:09:57 WARNING  Complex scoring file detected\n",
      "pgscatalog.core.lib._normalise: 2024-05-04 18:09:57 WARNING  Complex files are difficult to calculate properly and may require manual intervention\n",
      "pgscatalog.core.lib._normalise: 2024-05-04 18:09:57 WARNING  2 of 3496 variants are duplicated in: PGS001294\n",
      " 90%|████████████████████████████████████▉    | 120/133 [10:49<00:16,  1.30s/it]pgscatalog.core.lib._normalise: 2024-05-04 18:18:10 WARNING  Multiple other_alleles detected in 12 variants\n",
      "pgscatalog.core.lib._normalise: 2024-05-04 18:18:10 WARNING  Other allele for these variants is set to missing\n",
      "pgscatalog.core.lib._normalise: 2024-05-04 18:18:10 WARNING  Multiple other_alleles detected in 15 variants\n",
      "pgscatalog.core.lib._normalise: 2024-05-04 18:18:10 WARNING  Other allele for these variants is set to missing\n",
      "pgscatalog.core.lib._normalise: 2024-05-04 18:18:16 WARNING  80 bad variants\n",
      "pgscatalog.core.lib._normalise: 2024-05-04 18:18:16 WARNING  Multiple other_alleles detected in 213473 variants\n",
      "pgscatalog.core.lib._normalise: 2024-05-04 18:18:16 WARNING  Other allele for these variants is set to missing\n",
      "pgscatalog.core.lib._normalise: 2024-05-04 18:18:16 WARNING  76 of 1059939 variants are duplicated in: PGS004499\n",
      " 94%|██████████████████████████████████████▌  | 125/133 [10:56<00:11,  1.42s/it]pgscatalog.core.lib._normalise: 2024-05-04 18:18:24 WARNING  80 bad variants\n",
      "pgscatalog.core.lib._normalise: 2024-05-04 18:18:24 WARNING  Multiple other_alleles detected in 213473 variants\n",
      "pgscatalog.core.lib._normalise: 2024-05-04 18:18:24 WARNING  Other allele for these variants is set to missing\n",
      "pgscatalog.core.lib._normalise: 2024-05-04 18:18:24 WARNING  76 of 1059939 variants are duplicated in: PGS004569\n",
      " 95%|███████████████████████████████████████▏ | 127/133 [11:04<00:11,  1.98s/it]pgscatalog.core.lib._normalise: 2024-05-04 18:18:43 WARNING  321 bad variants\n",
      "pgscatalog.core.lib._normalise: 2024-05-04 18:18:43 WARNING  271 of 3306136 variants are duplicated in: PGS004837\n",
      " 96%|███████████████████████████████████████▍ | 128/133 [11:27<00:29,  5.99s/it]pgscatalog.core.lib._normalise: 2024-05-04 18:19:29 WARNING  435 bad variants\n",
      "pgscatalog.core.lib._normalise: 2024-05-04 18:19:29 WARNING  420 of 6586458 variants are duplicated in: PGS004838\n",
      " 97%|███████████████████████████████████████▊ | 129/133 [12:22<01:06, 16.62s/it]pgscatalog.core.lib._normalise: 2024-05-04 18:20:20 WARNING  368 bad variants\n",
      "pgscatalog.core.lib._normalise: 2024-05-04 18:20:20 WARNING  318 of 4594694 variants are duplicated in: PGS004839\n",
      " 98%|████████████████████████████████████████ | 130/133 [13:09<01:11, 23.69s/it]pgscatalog.core.lib._normalise: 2024-05-04 18:21:24 WARNING  435 bad variants\n",
      "pgscatalog.core.lib._normalise: 2024-05-04 18:21:24 WARNING  420 of 6586458 variants are duplicated in: PGS004840\n",
      " 98%|████████████████████████████████████████▍| 131/133 [14:18<01:10, 35.15s/it]pgscatalog.core.lib._normalise: 2024-05-04 18:21:46 WARNING  13 of 1108235 variants are duplicated in: PGS004859\n",
      "100%|█████████████████████████████████████████| 133/133 [15:26<00:00,  6.96s/it]\n"
     ]
    }
   ],
   "source": [
    "!pgscatalog-combine -s {samplesList} -t GRCh37 -o {phenotype}/combined.txt"
   ]
  },
  {
   "cell_type": "code",
   "execution_count": 8,
   "id": "4ce2f14f-a835-4816-bbc4-8b4e36ab5da2",
   "metadata": {},
   "outputs": [
    {
     "name": "stdout",
     "output_type": "stream",
     "text": [
      " 107742916 type2diabetes/combined.txt\n"
     ]
    }
   ],
   "source": [
    "!wc -l {phenotype}/combined.txt"
   ]
  },
  {
   "cell_type": "code",
   "execution_count": 9,
   "id": "d5c9f7a7-e1b3-4c04-afa6-00cab2a64604",
   "metadata": {
    "scrolled": true
   },
   "outputs": [
    {
     "name": "stdout",
     "output_type": "stream",
     "text": [
      "head\n",
      "chr_name\tchr_position\teffect_allele\tother_allele\teffect_weight\teffect_type\tis_duplicated\taccession\trow_nr\n",
      "1\t55326\tT\tC\t4.7746e-06\tadditive\tFalse\tPGS000014\t0\n",
      "1\t64649\tA\tC\t2.4708e-05\tadditive\tFalse\tPGS000014\t1\n",
      "1\t662622\tG\tA\t2.6507e-05\tadditive\tFalse\tPGS000014\t2\n",
      "1\t693731\tA\tG\t1.7749e-05\tadditive\tFalse\tPGS000014\t3\n",
      "1\t701835\tT\tC\t8.0876e-06\tadditive\tFalse\tPGS000014\t4\n",
      "1\t706368\tG\tA\t2.8262e-07\tadditive\tFalse\tPGS000014\t5\n",
      "1\t714019\tA\tG\t9.404e-06\tadditive\tFalse\tPGS000014\t6\n",
      "1\t714427\tG\tA\t1.472e-06\tadditive\tFalse\tPGS000014\t7\n",
      "1\t715265\tC\tT\t1.8088e-05\tadditive\tFalse\tPGS000014\t8\n",
      "tail\n",
      "22\t51222052\tG\tA\t2.0378e-06\tadditive\tFalse\tPGS004868\t6580794\n",
      "22\t51222100\tT\tG\t1.8426e-05\tadditive\tFalse\tPGS004868\t6580795\n",
      "22\t51222766\tA\tG\t1.6338e-05\tadditive\tFalse\tPGS004868\t6580796\n",
      "22\t51224600\tG\tA\t5.9393e-06\tadditive\tFalse\tPGS004868\t6580797\n",
      "22\t51227891\tG\tA\t2.8116e-06\tadditive\tFalse\tPGS004868\t6580798\n",
      "22\t51228910\tG\tA\t9.5731e-06\tadditive\tFalse\tPGS004868\t6580799\n",
      "22\t51229805\tC\tT\t1.3227e-06\tadditive\tFalse\tPGS004868\t6580800\n",
      "22\t51229855\tG\tA\t9.5344e-07\tadditive\tFalse\tPGS004868\t6580801\n",
      "22\t51233300\tC\tT\t5.0133e-06\tadditive\tFalse\tPGS004868\t6580802\n",
      "22\t51237063\tT\tC\t7.2872e-06\tadditive\tFalse\tPGS004868\t6580803\n"
     ]
    }
   ],
   "source": [
    "print('head')\n",
    "!head {phenotype}/combined.txt\n",
    "print('tail')\n",
    "!tail {phenotype}/combined.txt"
   ]
  },
  {
   "cell_type": "markdown",
   "id": "47952b22-634d-448f-a0e1-52ebe69c74ba",
   "metadata": {},
   "source": [
    "## Prepare, reduce and deduplicate model"
   ]
  },
  {
   "cell_type": "code",
   "execution_count": 4,
   "id": "5be2b970-0afc-47ef-8fd6-4c08d5da4e29",
   "metadata": {},
   "outputs": [
    {
     "name": "stderr",
     "output_type": "stream",
     "text": [
      "/var/folders/3f/_81l_gq14bzc90fk235z5tg40000gn/T/ipykernel_6757/3016281645.py:1: DtypeWarning: Columns (0,3) have mixed types. Specify dtype option on import or set low_memory=False.\n",
      "  combined_weights = pd.read_csv(phenotype + '/combined.txt', delimiter=\"\\t\")\n"
     ]
    },
    {
     "data": {
      "text/html": [
       "<div>\n",
       "<style scoped>\n",
       "    .dataframe tbody tr th:only-of-type {\n",
       "        vertical-align: middle;\n",
       "    }\n",
       "\n",
       "    .dataframe tbody tr th {\n",
       "        vertical-align: top;\n",
       "    }\n",
       "\n",
       "    .dataframe thead th {\n",
       "        text-align: right;\n",
       "    }\n",
       "</style>\n",
       "<table border=\"1\" class=\"dataframe\">\n",
       "  <thead>\n",
       "    <tr style=\"text-align: right;\">\n",
       "      <th></th>\n",
       "      <th>chr_name</th>\n",
       "      <th>chr_position</th>\n",
       "      <th>effect_allele</th>\n",
       "      <th>other_allele</th>\n",
       "      <th>effect_weight</th>\n",
       "      <th>effect_type</th>\n",
       "      <th>is_duplicated</th>\n",
       "      <th>accession</th>\n",
       "      <th>row_nr</th>\n",
       "    </tr>\n",
       "  </thead>\n",
       "  <tbody>\n",
       "    <tr>\n",
       "      <th>0</th>\n",
       "      <td>1</td>\n",
       "      <td>55326.0</td>\n",
       "      <td>T</td>\n",
       "      <td>C</td>\n",
       "      <td>4.774600e-06</td>\n",
       "      <td>additive</td>\n",
       "      <td>False</td>\n",
       "      <td>PGS000014</td>\n",
       "      <td>0</td>\n",
       "    </tr>\n",
       "    <tr>\n",
       "      <th>1</th>\n",
       "      <td>1</td>\n",
       "      <td>64649.0</td>\n",
       "      <td>A</td>\n",
       "      <td>C</td>\n",
       "      <td>2.470800e-05</td>\n",
       "      <td>additive</td>\n",
       "      <td>False</td>\n",
       "      <td>PGS000014</td>\n",
       "      <td>1</td>\n",
       "    </tr>\n",
       "    <tr>\n",
       "      <th>2</th>\n",
       "      <td>1</td>\n",
       "      <td>662622.0</td>\n",
       "      <td>G</td>\n",
       "      <td>A</td>\n",
       "      <td>2.650700e-05</td>\n",
       "      <td>additive</td>\n",
       "      <td>False</td>\n",
       "      <td>PGS000014</td>\n",
       "      <td>2</td>\n",
       "    </tr>\n",
       "    <tr>\n",
       "      <th>3</th>\n",
       "      <td>1</td>\n",
       "      <td>693731.0</td>\n",
       "      <td>A</td>\n",
       "      <td>G</td>\n",
       "      <td>1.774900e-05</td>\n",
       "      <td>additive</td>\n",
       "      <td>False</td>\n",
       "      <td>PGS000014</td>\n",
       "      <td>3</td>\n",
       "    </tr>\n",
       "    <tr>\n",
       "      <th>4</th>\n",
       "      <td>1</td>\n",
       "      <td>701835.0</td>\n",
       "      <td>T</td>\n",
       "      <td>C</td>\n",
       "      <td>8.087600e-06</td>\n",
       "      <td>additive</td>\n",
       "      <td>False</td>\n",
       "      <td>PGS000014</td>\n",
       "      <td>4</td>\n",
       "    </tr>\n",
       "    <tr>\n",
       "      <th>...</th>\n",
       "      <td>...</td>\n",
       "      <td>...</td>\n",
       "      <td>...</td>\n",
       "      <td>...</td>\n",
       "      <td>...</td>\n",
       "      <td>...</td>\n",
       "      <td>...</td>\n",
       "      <td>...</td>\n",
       "      <td>...</td>\n",
       "    </tr>\n",
       "    <tr>\n",
       "      <th>107742910</th>\n",
       "      <td>22</td>\n",
       "      <td>51228910.0</td>\n",
       "      <td>G</td>\n",
       "      <td>A</td>\n",
       "      <td>9.573100e-06</td>\n",
       "      <td>additive</td>\n",
       "      <td>False</td>\n",
       "      <td>PGS004868</td>\n",
       "      <td>6580799</td>\n",
       "    </tr>\n",
       "    <tr>\n",
       "      <th>107742911</th>\n",
       "      <td>22</td>\n",
       "      <td>51229805.0</td>\n",
       "      <td>C</td>\n",
       "      <td>T</td>\n",
       "      <td>1.322700e-06</td>\n",
       "      <td>additive</td>\n",
       "      <td>False</td>\n",
       "      <td>PGS004868</td>\n",
       "      <td>6580800</td>\n",
       "    </tr>\n",
       "    <tr>\n",
       "      <th>107742912</th>\n",
       "      <td>22</td>\n",
       "      <td>51229855.0</td>\n",
       "      <td>G</td>\n",
       "      <td>A</td>\n",
       "      <td>9.534400e-07</td>\n",
       "      <td>additive</td>\n",
       "      <td>False</td>\n",
       "      <td>PGS004868</td>\n",
       "      <td>6580801</td>\n",
       "    </tr>\n",
       "    <tr>\n",
       "      <th>107742913</th>\n",
       "      <td>22</td>\n",
       "      <td>51233300.0</td>\n",
       "      <td>C</td>\n",
       "      <td>T</td>\n",
       "      <td>5.013300e-06</td>\n",
       "      <td>additive</td>\n",
       "      <td>False</td>\n",
       "      <td>PGS004868</td>\n",
       "      <td>6580802</td>\n",
       "    </tr>\n",
       "    <tr>\n",
       "      <th>107742914</th>\n",
       "      <td>22</td>\n",
       "      <td>51237063.0</td>\n",
       "      <td>T</td>\n",
       "      <td>C</td>\n",
       "      <td>7.287200e-06</td>\n",
       "      <td>additive</td>\n",
       "      <td>False</td>\n",
       "      <td>PGS004868</td>\n",
       "      <td>6580803</td>\n",
       "    </tr>\n",
       "  </tbody>\n",
       "</table>\n",
       "<p>107742915 rows × 9 columns</p>\n",
       "</div>"
      ],
      "text/plain": [
       "          chr_name  chr_position effect_allele other_allele  effect_weight  \\\n",
       "0                1       55326.0             T            C   4.774600e-06   \n",
       "1                1       64649.0             A            C   2.470800e-05   \n",
       "2                1      662622.0             G            A   2.650700e-05   \n",
       "3                1      693731.0             A            G   1.774900e-05   \n",
       "4                1      701835.0             T            C   8.087600e-06   \n",
       "...            ...           ...           ...          ...            ...   \n",
       "107742910       22    51228910.0             G            A   9.573100e-06   \n",
       "107742911       22    51229805.0             C            T   1.322700e-06   \n",
       "107742912       22    51229855.0             G            A   9.534400e-07   \n",
       "107742913       22    51233300.0             C            T   5.013300e-06   \n",
       "107742914       22    51237063.0             T            C   7.287200e-06   \n",
       "\n",
       "          effect_type  is_duplicated  accession   row_nr  \n",
       "0            additive          False  PGS000014        0  \n",
       "1            additive          False  PGS000014        1  \n",
       "2            additive          False  PGS000014        2  \n",
       "3            additive          False  PGS000014        3  \n",
       "4            additive          False  PGS000014        4  \n",
       "...               ...            ...        ...      ...  \n",
       "107742910    additive          False  PGS004868  6580799  \n",
       "107742911    additive          False  PGS004868  6580800  \n",
       "107742912    additive          False  PGS004868  6580801  \n",
       "107742913    additive          False  PGS004868  6580802  \n",
       "107742914    additive          False  PGS004868  6580803  \n",
       "\n",
       "[107742915 rows x 9 columns]"
      ]
     },
     "execution_count": 4,
     "metadata": {},
     "output_type": "execute_result"
    }
   ],
   "source": [
    "combined_weights = pd.read_csv(phenotype + '/combined.txt', delimiter=\"\\t\")\n",
    "combined_weights"
   ]
  },
  {
   "cell_type": "code",
   "execution_count": 4,
   "id": "00d3f6a7-bbe3-4118-9c9b-67549a7f2a39",
   "metadata": {},
   "outputs": [
    {
     "name": "stderr",
     "output_type": "stream",
     "text": [
      "/var/folders/3f/_81l_gq14bzc90fk235z5tg40000gn/T/ipykernel_58162/2114239681.py:2: DtypeWarning: Columns (0) have mixed types. Specify dtype option on import or set low_memory=False.\n",
      "  combined_weights_reduced = pd.read_csv('type2diabetes/combined_weights_reduced_0.01_deduplecated.txt', comment='#', delimiter=',')\n"
     ]
    }
   ],
   "source": [
    "## OR instead of preprocessing just upload existing preprocessed file\n",
    "combined_weights_reduced = pd.read_csv('type2diabetes/combined_weights_reduced_0.01_deduplecated.txt', comment='#', delimiter=',')"
   ]
  },
  {
   "cell_type": "code",
   "execution_count": 5,
   "id": "b8fd0e1d-1550-4d52-9988-fc9791f8dd7c",
   "metadata": {},
   "outputs": [
    {
     "data": {
      "text/html": [
       "<div>\n",
       "<style scoped>\n",
       "    .dataframe tbody tr th:only-of-type {\n",
       "        vertical-align: middle;\n",
       "    }\n",
       "\n",
       "    .dataframe tbody tr th {\n",
       "        vertical-align: top;\n",
       "    }\n",
       "\n",
       "    .dataframe thead th {\n",
       "        text-align: right;\n",
       "    }\n",
       "</style>\n",
       "<table border=\"1\" class=\"dataframe\">\n",
       "  <thead>\n",
       "    <tr style=\"text-align: right;\">\n",
       "      <th></th>\n",
       "      <th>chr_name</th>\n",
       "      <th>chr_position</th>\n",
       "      <th>effect_allele</th>\n",
       "      <th>other_allele</th>\n",
       "      <th>effect_weight</th>\n",
       "      <th>effect_type</th>\n",
       "      <th>is_duplicated</th>\n",
       "      <th>accession</th>\n",
       "      <th>row_nr</th>\n",
       "      <th>chr_coordinate</th>\n",
       "    </tr>\n",
       "  </thead>\n",
       "  <tbody>\n",
       "    <tr>\n",
       "      <th>0</th>\n",
       "      <td>8</td>\n",
       "      <td>110552252</td>\n",
       "      <td>G</td>\n",
       "      <td>T</td>\n",
       "      <td>-5.484162</td>\n",
       "      <td>additive</td>\n",
       "      <td>False</td>\n",
       "      <td>PGS002475</td>\n",
       "      <td>8049</td>\n",
       "      <td>8:110552252</td>\n",
       "    </tr>\n",
       "    <tr>\n",
       "      <th>1</th>\n",
       "      <td>8</td>\n",
       "      <td>110551664</td>\n",
       "      <td>T</td>\n",
       "      <td>C</td>\n",
       "      <td>-5.307112</td>\n",
       "      <td>additive</td>\n",
       "      <td>False</td>\n",
       "      <td>PGS002524</td>\n",
       "      <td>46073</td>\n",
       "      <td>8:110551664</td>\n",
       "    </tr>\n",
       "    <tr>\n",
       "      <th>2</th>\n",
       "      <td>11</td>\n",
       "      <td>113370891</td>\n",
       "      <td>A</td>\n",
       "      <td>G</td>\n",
       "      <td>3.925090</td>\n",
       "      <td>additive</td>\n",
       "      <td>False</td>\n",
       "      <td>PGS002524</td>\n",
       "      <td>60360</td>\n",
       "      <td>11:113370891</td>\n",
       "    </tr>\n",
       "    <tr>\n",
       "      <th>3</th>\n",
       "      <td>14</td>\n",
       "      <td>24952289</td>\n",
       "      <td>C</td>\n",
       "      <td>T</td>\n",
       "      <td>-3.891308</td>\n",
       "      <td>additive</td>\n",
       "      <td>False</td>\n",
       "      <td>PGS002475</td>\n",
       "      <td>12566</td>\n",
       "      <td>14:24952289</td>\n",
       "    </tr>\n",
       "    <tr>\n",
       "      <th>4</th>\n",
       "      <td>7</td>\n",
       "      <td>99849572</td>\n",
       "      <td>G</td>\n",
       "      <td>C</td>\n",
       "      <td>-3.780482</td>\n",
       "      <td>additive</td>\n",
       "      <td>False</td>\n",
       "      <td>PGS002573</td>\n",
       "      <td>301</td>\n",
       "      <td>7:99849572</td>\n",
       "    </tr>\n",
       "    <tr>\n",
       "      <th>...</th>\n",
       "      <td>...</td>\n",
       "      <td>...</td>\n",
       "      <td>...</td>\n",
       "      <td>...</td>\n",
       "      <td>...</td>\n",
       "      <td>...</td>\n",
       "      <td>...</td>\n",
       "      <td>...</td>\n",
       "      <td>...</td>\n",
       "      <td>...</td>\n",
       "    </tr>\n",
       "    <tr>\n",
       "      <th>828618</th>\n",
       "      <td>2</td>\n",
       "      <td>71163051</td>\n",
       "      <td>T</td>\n",
       "      <td>C</td>\n",
       "      <td>-0.020000</td>\n",
       "      <td>additive</td>\n",
       "      <td>False</td>\n",
       "      <td>PGS000729</td>\n",
       "      <td>213092</td>\n",
       "      <td>2:71163051</td>\n",
       "    </tr>\n",
       "    <tr>\n",
       "      <th>828619</th>\n",
       "      <td>17</td>\n",
       "      <td>30864001</td>\n",
       "      <td>T</td>\n",
       "      <td>G</td>\n",
       "      <td>0.020000</td>\n",
       "      <td>additive</td>\n",
       "      <td>False</td>\n",
       "      <td>PGS000729</td>\n",
       "      <td>1749933</td>\n",
       "      <td>17:30864001</td>\n",
       "    </tr>\n",
       "    <tr>\n",
       "      <th>828620</th>\n",
       "      <td>5</td>\n",
       "      <td>156355151</td>\n",
       "      <td>A</td>\n",
       "      <td>C</td>\n",
       "      <td>-0.020000</td>\n",
       "      <td>additive</td>\n",
       "      <td>False</td>\n",
       "      <td>PGS000729</td>\n",
       "      <td>692894</td>\n",
       "      <td>5:156355151</td>\n",
       "    </tr>\n",
       "    <tr>\n",
       "      <th>828621</th>\n",
       "      <td>17</td>\n",
       "      <td>30654469</td>\n",
       "      <td>A</td>\n",
       "      <td>G</td>\n",
       "      <td>0.020000</td>\n",
       "      <td>additive</td>\n",
       "      <td>False</td>\n",
       "      <td>PGS000729</td>\n",
       "      <td>1749837</td>\n",
       "      <td>17:30654469</td>\n",
       "    </tr>\n",
       "    <tr>\n",
       "      <th>828622</th>\n",
       "      <td>3</td>\n",
       "      <td>36758259</td>\n",
       "      <td>T</td>\n",
       "      <td>G</td>\n",
       "      <td>0.020000</td>\n",
       "      <td>additive</td>\n",
       "      <td>False</td>\n",
       "      <td>PGS000729</td>\n",
       "      <td>353498</td>\n",
       "      <td>3:36758259</td>\n",
       "    </tr>\n",
       "  </tbody>\n",
       "</table>\n",
       "<p>828623 rows × 10 columns</p>\n",
       "</div>"
      ],
      "text/plain": [
       "       chr_name  chr_position effect_allele other_allele  effect_weight  \\\n",
       "0             8     110552252             G            T      -5.484162   \n",
       "1             8     110551664             T            C      -5.307112   \n",
       "2            11     113370891             A            G       3.925090   \n",
       "3            14      24952289             C            T      -3.891308   \n",
       "4             7      99849572             G            C      -3.780482   \n",
       "...         ...           ...           ...          ...            ...   \n",
       "828618        2      71163051             T            C      -0.020000   \n",
       "828619       17      30864001             T            G       0.020000   \n",
       "828620        5     156355151             A            C      -0.020000   \n",
       "828621       17      30654469             A            G       0.020000   \n",
       "828622        3      36758259             T            G       0.020000   \n",
       "\n",
       "       effect_type  is_duplicated  accession   row_nr chr_coordinate  \n",
       "0         additive          False  PGS002475     8049    8:110552252  \n",
       "1         additive          False  PGS002524    46073    8:110551664  \n",
       "2         additive          False  PGS002524    60360   11:113370891  \n",
       "3         additive          False  PGS002475    12566    14:24952289  \n",
       "4         additive          False  PGS002573      301     7:99849572  \n",
       "...            ...            ...        ...      ...            ...  \n",
       "828618    additive          False  PGS000729   213092     2:71163051  \n",
       "828619    additive          False  PGS000729  1749933    17:30864001  \n",
       "828620    additive          False  PGS000729   692894    5:156355151  \n",
       "828621    additive          False  PGS000729  1749837    17:30654469  \n",
       "828622    additive          False  PGS000729   353498     3:36758259  \n",
       "\n",
       "[828623 rows x 10 columns]"
      ]
     },
     "execution_count": 5,
     "metadata": {},
     "output_type": "execute_result"
    }
   ],
   "source": [
    "combined_weights_reduced"
   ]
  },
  {
   "cell_type": "code",
   "execution_count": 12,
   "id": "56f5a48d-3cf6-4acf-af0c-07fad9881c90",
   "metadata": {},
   "outputs": [],
   "source": [
    "top_n_percentage = 0.01"
   ]
  },
  {
   "cell_type": "code",
   "execution_count": 5,
   "id": "2c61e9fd-81b2-43d7-889b-239cf738a8f4",
   "metadata": {},
   "outputs": [
    {
     "name": "stdout",
     "output_type": "stream",
     "text": [
      "Sat May 4 23:40:12 MSK 2024\n",
      "Sat May 4 23:41:50 MSK 2024\n"
     ]
    },
    {
     "data": {
      "text/html": [
       "<div>\n",
       "<style scoped>\n",
       "    .dataframe tbody tr th:only-of-type {\n",
       "        vertical-align: middle;\n",
       "    }\n",
       "\n",
       "    .dataframe tbody tr th {\n",
       "        vertical-align: top;\n",
       "    }\n",
       "\n",
       "    .dataframe thead th {\n",
       "        text-align: right;\n",
       "    }\n",
       "</style>\n",
       "<table border=\"1\" class=\"dataframe\">\n",
       "  <thead>\n",
       "    <tr style=\"text-align: right;\">\n",
       "      <th></th>\n",
       "      <th>chr_name</th>\n",
       "      <th>chr_position</th>\n",
       "      <th>effect_allele</th>\n",
       "      <th>other_allele</th>\n",
       "      <th>effect_weight</th>\n",
       "      <th>effect_type</th>\n",
       "      <th>is_duplicated</th>\n",
       "      <th>accession</th>\n",
       "      <th>row_nr</th>\n",
       "    </tr>\n",
       "  </thead>\n",
       "  <tbody>\n",
       "    <tr>\n",
       "      <th>30999374</th>\n",
       "      <td>8</td>\n",
       "      <td>110552252</td>\n",
       "      <td>G</td>\n",
       "      <td>T</td>\n",
       "      <td>-5.484162</td>\n",
       "      <td>additive</td>\n",
       "      <td>False</td>\n",
       "      <td>PGS002475</td>\n",
       "      <td>8049</td>\n",
       "    </tr>\n",
       "    <tr>\n",
       "      <th>30989410</th>\n",
       "      <td>8</td>\n",
       "      <td>110552252</td>\n",
       "      <td>G</td>\n",
       "      <td>T</td>\n",
       "      <td>-5.484162</td>\n",
       "      <td>additive</td>\n",
       "      <td>False</td>\n",
       "      <td>PGS002426</td>\n",
       "      <td>2032</td>\n",
       "    </tr>\n",
       "    <tr>\n",
       "      <th>31053659</th>\n",
       "      <td>8</td>\n",
       "      <td>110552252</td>\n",
       "      <td>G</td>\n",
       "      <td>T</td>\n",
       "      <td>-5.484162</td>\n",
       "      <td>additive</td>\n",
       "      <td>False</td>\n",
       "      <td>PGS002524</td>\n",
       "      <td>46059</td>\n",
       "    </tr>\n",
       "    <tr>\n",
       "      <th>31053673</th>\n",
       "      <td>8</td>\n",
       "      <td>110551664</td>\n",
       "      <td>T</td>\n",
       "      <td>C</td>\n",
       "      <td>-5.307112</td>\n",
       "      <td>additive</td>\n",
       "      <td>False</td>\n",
       "      <td>PGS002524</td>\n",
       "      <td>46073</td>\n",
       "    </tr>\n",
       "    <tr>\n",
       "      <th>30989424</th>\n",
       "      <td>8</td>\n",
       "      <td>110551664</td>\n",
       "      <td>T</td>\n",
       "      <td>C</td>\n",
       "      <td>-5.307112</td>\n",
       "      <td>additive</td>\n",
       "      <td>False</td>\n",
       "      <td>PGS002426</td>\n",
       "      <td>2046</td>\n",
       "    </tr>\n",
       "    <tr>\n",
       "      <th>...</th>\n",
       "      <td>...</td>\n",
       "      <td>...</td>\n",
       "      <td>...</td>\n",
       "      <td>...</td>\n",
       "      <td>...</td>\n",
       "      <td>...</td>\n",
       "      <td>...</td>\n",
       "      <td>...</td>\n",
       "      <td>...</td>\n",
       "    </tr>\n",
       "    <tr>\n",
       "      <th>52067243</th>\n",
       "      <td>7</td>\n",
       "      <td>63818176</td>\n",
       "      <td>G</td>\n",
       "      <td>T</td>\n",
       "      <td>0.000010</td>\n",
       "      <td>additive</td>\n",
       "      <td>False</td>\n",
       "      <td>PGS003102</td>\n",
       "      <td>4374407</td>\n",
       "    </tr>\n",
       "    <tr>\n",
       "      <th>70033282</th>\n",
       "      <td>17</td>\n",
       "      <td>53039483</td>\n",
       "      <td>G</td>\n",
       "      <td>A</td>\n",
       "      <td>0.000010</td>\n",
       "      <td>additive</td>\n",
       "      <td>False</td>\n",
       "      <td>PGS003982</td>\n",
       "      <td>952029</td>\n",
       "    </tr>\n",
       "    <tr>\n",
       "      <th>58366941</th>\n",
       "      <td>14</td>\n",
       "      <td>99789082</td>\n",
       "      <td>C</td>\n",
       "      <td>T</td>\n",
       "      <td>0.000010</td>\n",
       "      <td>additive</td>\n",
       "      <td>False</td>\n",
       "      <td>PGS003117</td>\n",
       "      <td>1133765</td>\n",
       "    </tr>\n",
       "    <tr>\n",
       "      <th>68142415</th>\n",
       "      <td>2</td>\n",
       "      <td>105791914</td>\n",
       "      <td>C</td>\n",
       "      <td>T</td>\n",
       "      <td>0.000010</td>\n",
       "      <td>additive</td>\n",
       "      <td>False</td>\n",
       "      <td>PGS003867</td>\n",
       "      <td>129328</td>\n",
       "    </tr>\n",
       "    <tr>\n",
       "      <th>41569299</th>\n",
       "      <td>4</td>\n",
       "      <td>189815636</td>\n",
       "      <td>G</td>\n",
       "      <td>A</td>\n",
       "      <td>0.000010</td>\n",
       "      <td>additive</td>\n",
       "      <td>False</td>\n",
       "      <td>PGS003092</td>\n",
       "      <td>7244504</td>\n",
       "    </tr>\n",
       "  </tbody>\n",
       "</table>\n",
       "<p>53870900 rows × 9 columns</p>\n",
       "</div>"
      ],
      "text/plain": [
       "         chr_name  chr_position effect_allele other_allele  effect_weight  \\\n",
       "30999374        8     110552252             G            T      -5.484162   \n",
       "30989410        8     110552252             G            T      -5.484162   \n",
       "31053659        8     110552252             G            T      -5.484162   \n",
       "31053673        8     110551664             T            C      -5.307112   \n",
       "30989424        8     110551664             T            C      -5.307112   \n",
       "...           ...           ...           ...          ...            ...   \n",
       "52067243        7      63818176             G            T       0.000010   \n",
       "70033282       17      53039483             G            A       0.000010   \n",
       "58366941       14      99789082             C            T       0.000010   \n",
       "68142415        2     105791914             C            T       0.000010   \n",
       "41569299        4     189815636             G            A       0.000010   \n",
       "\n",
       "         effect_type  is_duplicated  accession   row_nr  \n",
       "30999374    additive          False  PGS002475     8049  \n",
       "30989410    additive          False  PGS002426     2032  \n",
       "31053659    additive          False  PGS002524    46059  \n",
       "31053673    additive          False  PGS002524    46073  \n",
       "30989424    additive          False  PGS002426     2046  \n",
       "...              ...            ...        ...      ...  \n",
       "52067243    additive          False  PGS003102  4374407  \n",
       "70033282    additive          False  PGS003982   952029  \n",
       "58366941    additive          False  PGS003117  1133765  \n",
       "68142415    additive          False  PGS003867   129328  \n",
       "41569299    additive          False  PGS003092  7244504  \n",
       "\n",
       "[53870900 rows x 9 columns]"
      ]
     },
     "execution_count": 5,
     "metadata": {},
     "output_type": "execute_result"
    }
   ],
   "source": [
    "top_n_percentage = 0.5\n",
    "\n",
    "!echo $(date)\n",
    "combined_weights_reduced = combined_weights.sort_values('effect_weight',key=abs,ascending=False).head(int(len(combined_weights) * top_n_percentage))\n",
    "combined_weights_reduced.replace([np.inf, -np.inf], np.nan, inplace=True)\n",
    "combined_weights_reduced = combined_weights_reduced.dropna(subset=['chr_name', 'chr_position'])\n",
    "combined_weights_reduced['chr_position'] = combined_weights_reduced['chr_position'].astype(int)\n",
    "!echo $(date)\n",
    "\n",
    "combined_weights_reduced"
   ]
  },
  {
   "cell_type": "code",
   "execution_count": 6,
   "id": "5251c490-efc0-4ccc-bae3-828757954573",
   "metadata": {},
   "outputs": [],
   "source": [
    "combined_weights = 0"
   ]
  },
  {
   "cell_type": "code",
   "execution_count": 7,
   "id": "4ff28768-8ee7-4de6-a74d-d95f86488974",
   "metadata": {},
   "outputs": [
    {
     "name": "stdout",
     "output_type": "stream",
     "text": [
      "Sat May 4 23:41:51 MSK 2024\n",
      "Sat May 4 23:47:23 MSK 2024\n"
     ]
    },
    {
     "data": {
      "text/html": [
       "<div>\n",
       "<style scoped>\n",
       "    .dataframe tbody tr th:only-of-type {\n",
       "        vertical-align: middle;\n",
       "    }\n",
       "\n",
       "    .dataframe tbody tr th {\n",
       "        vertical-align: top;\n",
       "    }\n",
       "\n",
       "    .dataframe thead th {\n",
       "        text-align: right;\n",
       "    }\n",
       "</style>\n",
       "<table border=\"1\" class=\"dataframe\">\n",
       "  <thead>\n",
       "    <tr style=\"text-align: right;\">\n",
       "      <th></th>\n",
       "      <th>chr_name</th>\n",
       "      <th>chr_position</th>\n",
       "      <th>effect_allele</th>\n",
       "      <th>other_allele</th>\n",
       "      <th>effect_weight</th>\n",
       "      <th>effect_type</th>\n",
       "      <th>is_duplicated</th>\n",
       "      <th>accession</th>\n",
       "      <th>row_nr</th>\n",
       "      <th>chr_coordinate</th>\n",
       "    </tr>\n",
       "  </thead>\n",
       "  <tbody>\n",
       "    <tr>\n",
       "      <th>30999374</th>\n",
       "      <td>8</td>\n",
       "      <td>110552252</td>\n",
       "      <td>G</td>\n",
       "      <td>T</td>\n",
       "      <td>-5.484162</td>\n",
       "      <td>additive</td>\n",
       "      <td>False</td>\n",
       "      <td>PGS002475</td>\n",
       "      <td>8049</td>\n",
       "      <td>8:110552252</td>\n",
       "    </tr>\n",
       "    <tr>\n",
       "      <th>31053673</th>\n",
       "      <td>8</td>\n",
       "      <td>110551664</td>\n",
       "      <td>T</td>\n",
       "      <td>C</td>\n",
       "      <td>-5.307112</td>\n",
       "      <td>additive</td>\n",
       "      <td>False</td>\n",
       "      <td>PGS002524</td>\n",
       "      <td>46073</td>\n",
       "      <td>8:110551664</td>\n",
       "    </tr>\n",
       "    <tr>\n",
       "      <th>31067960</th>\n",
       "      <td>11</td>\n",
       "      <td>113370891</td>\n",
       "      <td>A</td>\n",
       "      <td>G</td>\n",
       "      <td>3.925090</td>\n",
       "      <td>additive</td>\n",
       "      <td>False</td>\n",
       "      <td>PGS002524</td>\n",
       "      <td>60360</td>\n",
       "      <td>11:113370891</td>\n",
       "    </tr>\n",
       "    <tr>\n",
       "      <th>31003891</th>\n",
       "      <td>14</td>\n",
       "      <td>24952289</td>\n",
       "      <td>C</td>\n",
       "      <td>T</td>\n",
       "      <td>-3.891308</td>\n",
       "      <td>additive</td>\n",
       "      <td>False</td>\n",
       "      <td>PGS002475</td>\n",
       "      <td>12566</td>\n",
       "      <td>14:24952289</td>\n",
       "    </tr>\n",
       "    <tr>\n",
       "      <th>31103188</th>\n",
       "      <td>7</td>\n",
       "      <td>99849572</td>\n",
       "      <td>G</td>\n",
       "      <td>C</td>\n",
       "      <td>-3.780482</td>\n",
       "      <td>additive</td>\n",
       "      <td>False</td>\n",
       "      <td>PGS002573</td>\n",
       "      <td>301</td>\n",
       "      <td>7:99849572</td>\n",
       "    </tr>\n",
       "    <tr>\n",
       "      <th>...</th>\n",
       "      <td>...</td>\n",
       "      <td>...</td>\n",
       "      <td>...</td>\n",
       "      <td>...</td>\n",
       "      <td>...</td>\n",
       "      <td>...</td>\n",
       "      <td>...</td>\n",
       "      <td>...</td>\n",
       "      <td>...</td>\n",
       "      <td>...</td>\n",
       "    </tr>\n",
       "    <tr>\n",
       "      <th>89936678</th>\n",
       "      <td>5</td>\n",
       "      <td>125406441</td>\n",
       "      <td>C</td>\n",
       "      <td>T</td>\n",
       "      <td>-0.000010</td>\n",
       "      <td>additive</td>\n",
       "      <td>False</td>\n",
       "      <td>PGS004839</td>\n",
       "      <td>1063954</td>\n",
       "      <td>5:125406441</td>\n",
       "    </tr>\n",
       "    <tr>\n",
       "      <th>100797608</th>\n",
       "      <td>11</td>\n",
       "      <td>5367642</td>\n",
       "      <td>G</td>\n",
       "      <td>A</td>\n",
       "      <td>0.000010</td>\n",
       "      <td>additive</td>\n",
       "      <td>False</td>\n",
       "      <td>PGS004859</td>\n",
       "      <td>743732</td>\n",
       "      <td>11:5367642</td>\n",
       "    </tr>\n",
       "    <tr>\n",
       "      <th>89744911</th>\n",
       "      <td>4</td>\n",
       "      <td>138948344</td>\n",
       "      <td>G</td>\n",
       "      <td>A</td>\n",
       "      <td>-0.000010</td>\n",
       "      <td>additive</td>\n",
       "      <td>False</td>\n",
       "      <td>PGS004839</td>\n",
       "      <td>872187</td>\n",
       "      <td>4:138948344</td>\n",
       "    </tr>\n",
       "    <tr>\n",
       "      <th>52067243</th>\n",
       "      <td>7</td>\n",
       "      <td>63818176</td>\n",
       "      <td>G</td>\n",
       "      <td>T</td>\n",
       "      <td>0.000010</td>\n",
       "      <td>additive</td>\n",
       "      <td>False</td>\n",
       "      <td>PGS003102</td>\n",
       "      <td>4374407</td>\n",
       "      <td>7:63818176</td>\n",
       "    </tr>\n",
       "    <tr>\n",
       "      <th>41569299</th>\n",
       "      <td>4</td>\n",
       "      <td>189815636</td>\n",
       "      <td>G</td>\n",
       "      <td>A</td>\n",
       "      <td>0.000010</td>\n",
       "      <td>additive</td>\n",
       "      <td>False</td>\n",
       "      <td>PGS003092</td>\n",
       "      <td>7244504</td>\n",
       "      <td>4:189815636</td>\n",
       "    </tr>\n",
       "  </tbody>\n",
       "</table>\n",
       "<p>15869379 rows × 10 columns</p>\n",
       "</div>"
      ],
      "text/plain": [
       "          chr_name  chr_position effect_allele other_allele  effect_weight  \\\n",
       "30999374         8     110552252             G            T      -5.484162   \n",
       "31053673         8     110551664             T            C      -5.307112   \n",
       "31067960        11     113370891             A            G       3.925090   \n",
       "31003891        14      24952289             C            T      -3.891308   \n",
       "31103188         7      99849572             G            C      -3.780482   \n",
       "...            ...           ...           ...          ...            ...   \n",
       "89936678         5     125406441             C            T      -0.000010   \n",
       "100797608       11       5367642             G            A       0.000010   \n",
       "89744911         4     138948344             G            A      -0.000010   \n",
       "52067243         7      63818176             G            T       0.000010   \n",
       "41569299         4     189815636             G            A       0.000010   \n",
       "\n",
       "          effect_type  is_duplicated  accession   row_nr chr_coordinate  \n",
       "30999374     additive          False  PGS002475     8049    8:110552252  \n",
       "31053673     additive          False  PGS002524    46073    8:110551664  \n",
       "31067960     additive          False  PGS002524    60360   11:113370891  \n",
       "31003891     additive          False  PGS002475    12566    14:24952289  \n",
       "31103188     additive          False  PGS002573      301     7:99849572  \n",
       "...               ...            ...        ...      ...            ...  \n",
       "89936678     additive          False  PGS004839  1063954    5:125406441  \n",
       "100797608    additive          False  PGS004859   743732     11:5367642  \n",
       "89744911     additive          False  PGS004839   872187    4:138948344  \n",
       "52067243     additive          False  PGS003102  4374407     7:63818176  \n",
       "41569299     additive          False  PGS003092  7244504    4:189815636  \n",
       "\n",
       "[15869379 rows x 10 columns]"
      ]
     },
     "execution_count": 7,
     "metadata": {},
     "output_type": "execute_result"
    }
   ],
   "source": [
    "!echo $(date)\n",
    "\n",
    "combined_weights_reduced['chr_coordinate'] = combined_weights_reduced[['chr_name', 'chr_position']].apply(lambda row: ':'.join(row.values.astype(str)), axis=1)\n",
    "combined_weights_reduced = combined_weights_reduced.sort_values('effect_weight',key=abs,ascending=False).drop_duplicates(subset=['chr_coordinate', 'effect_allele'], keep='first')\n",
    "!echo $(date)\n",
    "\n",
    "combined_weights_reduced"
   ]
  },
  {
   "cell_type": "code",
   "execution_count": 8,
   "id": "39f731bd-828e-4b4d-bf1e-a2899db67f30",
   "metadata": {},
   "outputs": [],
   "source": [
    "combined_weights_reduced.to_csv(phenotype + '/combined_weights_reduced_' + str(top_n_percentage) + '_deduplecated.txt', index=False)"
   ]
  },
  {
   "cell_type": "markdown",
   "id": "8371a47f-6f66-40dd-af43-55262289ac1e",
   "metadata": {},
   "source": [
    "# Prepare dataset"
   ]
  },
  {
   "cell_type": "code",
   "execution_count": 33,
   "id": "3fa028ec-d417-484d-8bb3-829da1c9e406",
   "metadata": {},
   "outputs": [],
   "source": [
    "import xml.etree.ElementTree as et\n",
    "import requests"
   ]
  },
  {
   "cell_type": "markdown",
   "id": "dc9ee00d-a56a-4ae7-ade3-fcd104c4fc6c",
   "metadata": {},
   "source": [
    "## Type 2 diabetes\n",
    "\n",
    "Open access data from OpenSNP\n",
    "\n",
    "https://opensnp.org/phenotypes/50"
   ]
  },
  {
   "cell_type": "markdown",
   "id": "e2170572-1e7a-4176-934e-e82803259be9",
   "metadata": {},
   "source": [
    "### Fasting glucose without meds:\n",
    "\n",
    "Normal=<6.1 (<110)mmol/l(mg/dl)\n",
    "\n",
    "Impaired fasting glycaemia=≥ 6.1(≥110) & <7.0(<126)mmol/l(mg/dl)\n",
    "\n",
    "Impaired glucose tolerance=<7.0 (<126)mmol/l(mg/dl)\n",
    "\n",
    "Diabetes mellitus [T2D]=≥7.0 (≥126)mmol/l(mg/dl)"
   ]
  },
  {
   "cell_type": "markdown",
   "id": "7531b26f-9202-4e0f-8332-da20b66ba3b4",
   "metadata": {},
   "source": [
    "### Known Phenotypes:\n",
    "\n",
    "\n",
    "No = no\n",
    "\n",
    "Normal = no\n",
    "\n",
    "No, but genetically predisposed = almost\n",
    "\n",
    "Diabetes mellitus [t2d] = type2\n",
    "\n",
    "R1b1a2a1a1a4 - useless, will be reduced\n",
    "\n",
    "Prediabetic = almost\n",
    "\n",
    "Gestational diabetes = type1\n",
    "\n",
    "Gestational diabetic and now type ii = type2\n",
    "\n",
    "No. i have type 1 diabetes = type1\n",
    "\n",
    "Rs7903146 = type2\n",
    "\n",
    "Havent a clue - useless, will be reduced\n",
    "\n",
    "Yes = type2\n",
    "\n",
    "118 mg/dl = almost"
   ]
  },
  {
   "cell_type": "code",
   "execution_count": 9,
   "id": "82709bda-f50b-4c10-98f7-80ae6c33e7e2",
   "metadata": {},
   "outputs": [],
   "source": [
    "phenotypes = {\n",
    "    'useless': ['r1b1a2a1a1a4', 'havent a clue'],\n",
    "    'type2': ['diabetes mellitus [t2d]', 'gestational diabetic and now type ii', 'Rs7903146', 'yes'],\n",
    "    'type1': ['gestational diabetes', 'No. i have type 1 diabetes'],\n",
    "    'no': ['no', 'normal'],\n",
    "    'almost': ['no, but genetically predisposed', 'prediabetic', '118 mg/dl']\n",
    "}\n",
    "\n",
    "def which_phenotype(variant):\n",
    "    if variant in phenotypes.get('almost'):\n",
    "        return 'almost'\n",
    "    elif variant in phenotypes.get('no'):\n",
    "        return 'no'\n",
    "    elif variant in phenotypes.get('type1'):\n",
    "        return 'type1'\n",
    "    elif variant in phenotypes.get('type2'):\n",
    "        return 'type2'\n",
    "    else:\n",
    "        return 'useless'"
   ]
  },
  {
   "cell_type": "markdown",
   "id": "3778d2a3-a6b1-43c6-90a8-9eb2bf75a77b",
   "metadata": {},
   "source": [
    "## Upload data from OpenSNP"
   ]
  },
  {
   "cell_type": "markdown",
   "id": "d63759da-91ca-40b2-83a5-da8a5e5a96ef",
   "metadata": {},
   "source": [
    "Many people uploaded data from AncestryDNA\n",
    "\n",
    "https://www.ancestry.com/dna/en/legal/international/faq"
   ]
  },
  {
   "cell_type": "markdown",
   "id": "581969f6-2a52-4366-af23-580aa0cdfb52",
   "metadata": {},
   "source": [
    "Type 2 diabetes has 50 OpenSNP Id"
   ]
  },
  {
   "cell_type": "code",
   "execution_count": 35,
   "id": "9b3111cc-96b1-4fc7-98c3-056468dbb1f1",
   "metadata": {},
   "outputs": [
    {
     "name": "stdout",
     "output_type": "stream",
     "text": [
      "Enter OpenSNP phenotype id:\n"
     ]
    },
    {
     "name": "stdin",
     "output_type": "stream",
     "text": [
      " 50\n"
     ]
    }
   ],
   "source": [
    "print('Enter OpenSNP phenotype id:')\n",
    "open_snp_id = input()"
   ]
  },
  {
   "cell_type": "code",
   "execution_count": 36,
   "id": "5ea5134d-e04a-4c25-9b35-ad270f2ba2c7",
   "metadata": {},
   "outputs": [
    {
     "data": {
      "text/plain": [
       "[['http://opensnp.org/data/12349.ancestry.10184',\n",
       "  'no, but genetically predisposed'],\n",
       " ['http://opensnp.org/data/12299.23andme.10131', 'no'],\n",
       " ['http://opensnp.org/data/12274.23andme.10108', 'rs7903146'],\n",
       " ['http://opensnp.org/data/12258.23andme.10097', 'no'],\n",
       " ['http://opensnp.org/data/12078.ftdna-illumina.9947',\n",
       "  'no, but genetically predisposed'],\n",
       " ['http://opensnp.org/data/12049.23andme.9908',\n",
       "  'no, but genetically predisposed'],\n",
       " ['http://opensnp.org/data/11698.23andme.9613', 'no'],\n",
       " ['http://opensnp.org/data/11531.23andme.9422', 'no'],\n",
       " ['http://opensnp.org/data/11499.ancestry.9392', 'no. i have type 1 diabetes'],\n",
       " ['http://opensnp.org/data/11396.ancestry.9318',\n",
       "  'no, but genetically predisposed'],\n",
       " ['http://opensnp.org/data/10632.23andme.9278', '118 mg/dl'],\n",
       " ['http://opensnp.org/data/10507.23andme.8778', 'diabetes mellitus [t2d]'],\n",
       " ['http://opensnp.org/data/10469.23andme.8739', 'no'],\n",
       " ['http://opensnp.org/data/9992.23andme.8254',\n",
       "  'gestational diabetic and now type ii'],\n",
       " ['http://opensnp.org/data/9979.ftdna-illumina.8244', 'no'],\n",
       " ['http://opensnp.org/data/9974.ancestry.8238',\n",
       "  'no, but genetically predisposed'],\n",
       " ['http://opensnp.org/data/9932.23andme.8194', 'no'],\n",
       " ['http://opensnp.org/data/9905.ancestry.8173', 'prediabetic'],\n",
       " ['http://opensnp.org/data/9869.23andme.8128', 'no'],\n",
       " ['http://opensnp.org/data/9486.23andme.7780', 'no'],\n",
       " ['http://opensnp.org/data/9462.23andme.7760', 'no. i have type 1 diabetes'],\n",
       " ['http://opensnp.org/data/9243.ancestry.7569',\n",
       "  'no, but genetically predisposed'],\n",
       " ['http://opensnp.org/data/9111.ancestry.7452', 'no'],\n",
       " ['http://opensnp.org/data/8930.ftdna-illumina.7263', 'no'],\n",
       " ['http://opensnp.org/data/8747.23andme.7081', 'no'],\n",
       " ['http://opensnp.org/data/8737.23andme.7075', 'no'],\n",
       " ['http://opensnp.org/data/8627.ftdna-illumina.6984',\n",
       "  'no, but genetically predisposed'],\n",
       " ['http://opensnp.org/data/4696.ftdna-illumina.6913', 'no'],\n",
       " ['http://opensnp.org/data/8476.23andme.6841',\n",
       "  'no, but genetically predisposed'],\n",
       " ['http://opensnp.org/data/8403.23andme.6731', 'no'],\n",
       " ['http://opensnp.org/data/8322.ftdna-illumina.6653', 'no'],\n",
       " ['http://opensnp.org/data/8319.ancestry.6651', 'no'],\n",
       " ['http://opensnp.org/data/8139.ancestry.6472', 'diabetes mellitus [t2d]'],\n",
       " ['http://opensnp.org/data/8014.23andme.6350', 'no'],\n",
       " ['http://opensnp.org/data/7876.23andme.6234', 'no'],\n",
       " ['http://opensnp.org/data/7707.ancestry.6050',\n",
       "  'no, but genetically predisposed'],\n",
       " ['http://opensnp.org/data/7568.23andme.5914',\n",
       "  'no, but genetically predisposed'],\n",
       " ['http://opensnp.org/data/7567.ancestry.5913', 'yes'],\n",
       " ['http://opensnp.org/data/7463.ancestry.5810', 'yes'],\n",
       " ['http://opensnp.org/data/7450.23andme.5800', 'no'],\n",
       " ['http://opensnp.org/data/7372.ftdna-illumina.5726', 'prediabetic'],\n",
       " ['http://opensnp.org/data/4897.23andme.5715', 'no'],\n",
       " ['http://opensnp.org/data/7222.ftdna-illumina.5603',\n",
       "  'no, but genetically predisposed'],\n",
       " ['http://opensnp.org/data/6248.23andme.5462',\n",
       "  'no, but genetically predisposed'],\n",
       " ['http://opensnp.org/data/6965.23andme.5362',\n",
       "  'no, but genetically predisposed'],\n",
       " ['http://opensnp.org/data/6858.23andme.5234', 'yes'],\n",
       " ['http://opensnp.org/data/6815.23andme.5202', 'no'],\n",
       " ['http://opensnp.org/data/6813.23andme.5200', 'no'],\n",
       " ['http://opensnp.org/data/6761.23andme.5144', 'no'],\n",
       " ['http://opensnp.org/data/6722.ftdna-illumina.5114', 'no'],\n",
       " ['http://opensnp.org/data/6706.23andme.5099',\n",
       "  'no, but genetically predisposed'],\n",
       " ['http://opensnp.org/data/6493.ancestry.4913',\n",
       "  'no, but genetically predisposed'],\n",
       " ['http://opensnp.org/data/6263.23andme.4912', 'no'],\n",
       " ['http://opensnp.org/data/6250.ancestry.4746', 'rs7903146'],\n",
       " ['http://opensnp.org/data/6249.23andme.4745', 'no'],\n",
       " ['http://opensnp.org/data/6247.ftdna-illumina.4742',\n",
       "  'no, but genetically predisposed'],\n",
       " ['http://opensnp.org/data/6238.23andme.4736', 'no'],\n",
       " ['http://opensnp.org/data/6191.ftdna-illumina.4695', 'no'],\n",
       " ['http://opensnp.org/data/6120.23andme.4640',\n",
       "  'no, but genetically predisposed'],\n",
       " ['http://opensnp.org/data/6078.23andme.4589', 'no'],\n",
       " ['http://opensnp.org/data/6077.ancestry.4588', 'no'],\n",
       " ['http://opensnp.org/data/4941.23andme.4573', 'no'],\n",
       " ['http://opensnp.org/data/5917.23andme.4386',\n",
       "  'no, but genetically predisposed'],\n",
       " ['http://opensnp.org/data/5884.23andme.4358', 'diabetes mellitus [t2d]'],\n",
       " ['http://opensnp.org/data/5853.23andme.4332', 'no'],\n",
       " ['http://opensnp.org/data/5768.ancestry.4242', 'no'],\n",
       " ['http://opensnp.org/data/5596.ftdna-illumina.4090', 'no'],\n",
       " ['http://opensnp.org/data/5573.ftdna-illumina.4062', 'no'],\n",
       " ['http://opensnp.org/data/5542.23andme.4035', 'yes'],\n",
       " ['http://opensnp.org/data/5475.23andme.3971', 'yes'],\n",
       " ['http://opensnp.org/data/5397.23andme.3910', 'prediabetic'],\n",
       " ['http://opensnp.org/data/949.23andme.3858', 'no'],\n",
       " ['http://opensnp.org/data/5284.23andme.3792', 'no'],\n",
       " ['http://opensnp.org/data/5267.ancestry.3777', 'diabetes mellitus [t2d]'],\n",
       " ['http://opensnp.org/data/5258.23andme-exome-vcf.3767',\n",
       "  'no. i have type 1 diabetes'],\n",
       " ['http://opensnp.org/data/5211.23andme.3722', 'prediabetic'],\n",
       " ['http://opensnp.org/data/5168.23andme.3676',\n",
       "  'no, but genetically predisposed'],\n",
       " ['http://opensnp.org/data/5164.23andme.3672', 'no'],\n",
       " ['http://opensnp.org/data/5098.23andme.3615', 'prediabetic'],\n",
       " ['http://opensnp.org/data/5093.23andme.3610', 'no'],\n",
       " ['http://opensnp.org/data/5044.23andme.3573',\n",
       "  'no, but genetically predisposed'],\n",
       " ['http://opensnp.org/data/5027.ancestry.3561', 'prediabetic'],\n",
       " ['http://opensnp.org/data/5007.23andme.3546', 'no'],\n",
       " ['http://opensnp.org/data/4925.ancestry.3473', 'no'],\n",
       " ['http://opensnp.org/data/4864.ftdna-illumina.3447', 'normal'],\n",
       " ['http://opensnp.org/data/4832.ftdna-illumina.3407', 'no'],\n",
       " ['http://opensnp.org/data/4784.23andme.3373', 'no'],\n",
       " ['http://opensnp.org/data/4742.ancestry.3333', 'prediabetic'],\n",
       " ['http://opensnp.org/data/4712.23andme.3311', 'no'],\n",
       " ['http://opensnp.org/data/2074.23andme.3291', 'diabetes mellitus [t2d]'],\n",
       " ['http://opensnp.org/data/4552.ancestry.3240', 'prediabetic'],\n",
       " ['http://opensnp.org/data/4504.23andme.3102', 'prediabetic'],\n",
       " ['http://opensnp.org/data/4483.23andme.3080', 'no'],\n",
       " ['http://opensnp.org/data/4482.23andme.3079', 'no'],\n",
       " ['http://opensnp.org/data/4297.ancestry.3045', 'no'],\n",
       " ['http://opensnp.org/data/4438.23andme.3042', 'no'],\n",
       " ['http://opensnp.org/data/4428.23andme.3034', 'no'],\n",
       " ['http://opensnp.org/data/4342.23andme.3029', 'no'],\n",
       " ['http://opensnp.org/data/4356.23andme.2928', 'no'],\n",
       " ['http://opensnp.org/data/4343.23andme.2916', 'yes'],\n",
       " ['http://opensnp.org/data/4290.23andme.2910', 'no'],\n",
       " ['http://opensnp.org/data/4245.23andme.2883', 'prediabetic'],\n",
       " ['http://opensnp.org/data/4240.23andme.2879', 'no'],\n",
       " ['http://opensnp.org/data/4178.23andme.2835', 'no'],\n",
       " ['http://opensnp.org/data/4173.23andme.2831', 'no'],\n",
       " ['http://opensnp.org/data/4140.23andme.2806', 'normal'],\n",
       " ['http://opensnp.org/data/4095.23andme.2771', 'yes'],\n",
       " ['http://opensnp.org/data/4034.23andme.2725', 'no'],\n",
       " ['http://opensnp.org/data/3998.ftdna-illumina.2692', 'no'],\n",
       " ['http://opensnp.org/data/3945.23andme.2644', 'prediabetic'],\n",
       " ['http://opensnp.org/data/500.23andme.2637', 'normal'],\n",
       " ['http://opensnp.org/data/3934.23andme.2634', 'no'],\n",
       " ['http://opensnp.org/data/3833.ancestry.2550', 'no'],\n",
       " ['http://opensnp.org/data/3812.23andme.2533', 'no'],\n",
       " ['http://opensnp.org/data/814.23andme.2442', 'no'],\n",
       " ['http://opensnp.org/data/3695.23andme.2438', 'no'],\n",
       " ['http://opensnp.org/data/3623.23andme.2380', 'no'],\n",
       " ['http://opensnp.org/data/3571.ftdna-illumina.2340', 'no'],\n",
       " ['http://opensnp.org/data/3547.23andme.2321', 'no'],\n",
       " ['http://opensnp.org/data/991.ftdna-illumina.2308', 'no'],\n",
       " ['http://opensnp.org/data/3532.23andme.2305', 'prediabetic'],\n",
       " ['http://opensnp.org/data/3526.23andme.2299', 'yes'],\n",
       " ['http://opensnp.org/data/3449.23andme.2249',\n",
       "  'gestational diabetic and now type ii'],\n",
       " ['http://opensnp.org/data/3400.decodeme.2218', 'prediabetic'],\n",
       " ['http://opensnp.org/data/3395.23andme.2208', 'diabetes mellitus [t2d]'],\n",
       " ['http://opensnp.org/data/3343.23andme.2176', 'no'],\n",
       " ['http://opensnp.org/data/3334.23andme.2173', 'diabetes mellitus [t2d]'],\n",
       " ['http://opensnp.org/data/3267.ftdna-illumina.2125', 'yes'],\n",
       " ['http://opensnp.org/data/3104.23andme.1999', 'normal'],\n",
       " ['http://opensnp.org/data/3082.23andme.1983', 'diabetes mellitus [t2d]'],\n",
       " ['http://opensnp.org/data/3046.23andme.1955', 'rs7903146'],\n",
       " ['http://opensnp.org/data/3015.ancestry.1938', 'havent a clue'],\n",
       " ['http://opensnp.org/data/2903.23andme.1843', 'prediabetic'],\n",
       " ['http://opensnp.org/data/2797.23andme.1771', 'no'],\n",
       " ['http://opensnp.org/data/2755.23andme.1758', 'rs7903146'],\n",
       " ['http://opensnp.org/data/2718.23andme.1742', 'yes'],\n",
       " ['http://opensnp.org/data/2691.ftdna-illumina.1705', 'no'],\n",
       " ['http://opensnp.org/data/2665.ancestry.1681', 'havent a clue'],\n",
       " ['http://opensnp.org/data/2645.23andme.1662', 'no'],\n",
       " ['http://opensnp.org/data/2576.23andme.1632', 'normal'],\n",
       " ['http://opensnp.org/data/2575.23andme.1594', 'prediabetic'],\n",
       " ['http://opensnp.org/data/2557.23andme.1575', 'no'],\n",
       " ['http://opensnp.org/data/2533.23andme.1566', 'rs7903146'],\n",
       " ['http://opensnp.org/data/2456.23andme.1553', 'no'],\n",
       " ['http://opensnp.org/data/2516.23andme.1545', 'diabetes mellitus [t2d]'],\n",
       " ['http://opensnp.org/data/2455.23andme.1519', 'no'],\n",
       " ['http://opensnp.org/data/2446.23andme.1510', 'normal'],\n",
       " ['http://opensnp.org/data/2410.ftdna-illumina.1501', 'no'],\n",
       " ['http://opensnp.org/data/2385.23andme.1478', 'no'],\n",
       " ['http://opensnp.org/data/2379.23andme.1475', 'normal'],\n",
       " ['http://opensnp.org/data/2358.ancestry.1458', 'no'],\n",
       " ['http://opensnp.org/data/2307.23andme.1417', 'no'],\n",
       " ['http://opensnp.org/data/2288.23andme.1401', 'no'],\n",
       " ['http://opensnp.org/data/2271.23andme.1388', 'no. i have type 1 diabetes'],\n",
       " ['http://opensnp.org/data/2249.23andme.1384', 'normal'],\n",
       " ['http://opensnp.org/data/1472.23andme.1376', 'no'],\n",
       " ['http://opensnp.org/data/2203.ancestry.1347', 'no'],\n",
       " ['http://opensnp.org/data/2199.23andme.1344',\n",
       "  'gestational diabetic and now type ii'],\n",
       " ['http://opensnp.org/data/2183.23andme.1330', 'no'],\n",
       " ['http://opensnp.org/data/1952.23andme.1206', 'no'],\n",
       " ['http://opensnp.org/data/2008.23andme.1193',\n",
       "  'gestational diabetic and now type ii'],\n",
       " ['http://opensnp.org/data/2004.23andme.1189', 'no'],\n",
       " ['http://opensnp.org/data/1987.23andme.1174', 'no'],\n",
       " ['http://opensnp.org/data/1975.23andme.1162', 'no'],\n",
       " ['http://opensnp.org/data/1764.23andme.1025', 'no'],\n",
       " ['http://opensnp.org/data/1742.23andme.1010', 'no'],\n",
       " ['http://opensnp.org/data/1735.ftdna-illumina.1003', 'no'],\n",
       " ['http://opensnp.org/data/1712.23andme.988', 'no'],\n",
       " ['http://opensnp.org/data/1647.ancestry.939', 'no'],\n",
       " ['http://opensnp.org/data/1532.23andme.844', 'no'],\n",
       " ['http://opensnp.org/data/1092.ftdna-illumina.835', 'no'],\n",
       " ['http://opensnp.org/data/1499.23andme.818', 'gestational diabetes'],\n",
       " ['http://opensnp.org/data/1491.ftdna-illumina.810', 'prediabetic'],\n",
       " ['http://opensnp.org/data/1375.23andme.726', 'no'],\n",
       " ['http://opensnp.org/data/1215.23andme.645', 'no'],\n",
       " ['http://opensnp.org/data/1173.23andme.609', 'no'],\n",
       " ['http://opensnp.org/data/1103.23andme.565', 'no'],\n",
       " ['http://opensnp.org/data/1075.23andme.550', 'no'],\n",
       " ['http://opensnp.org/data/1035.ancestry.518', 'no'],\n",
       " ['http://opensnp.org/data/1029.23andme.515', 'no'],\n",
       " ['http://opensnp.org/data/1028.23andme.514', 'no'],\n",
       " ['http://opensnp.org/data/943.23andme.470', 'no'],\n",
       " ['http://opensnp.org/data/918.23andme.454', 'normal'],\n",
       " ['http://opensnp.org/data/916.23andme.452',\n",
       "  'no, but genetically predisposed'],\n",
       " ['http://opensnp.org/data/915.23andme.451', 'prediabetic'],\n",
       " ['http://opensnp.org/data/881.ftdna-illumina.429', 'normal'],\n",
       " ['http://opensnp.org/data/835.IYG.412', 'no'],\n",
       " ['http://opensnp.org/data/808.23andme.390', 'normal'],\n",
       " ['http://opensnp.org/data/806.23andme.388', 'no'],\n",
       " ['http://opensnp.org/data/782.23andme.371', 'normal'],\n",
       " ['http://opensnp.org/data/761.23andme.360', 'no'],\n",
       " ['http://opensnp.org/data/717.23andme.333', 'diabetes mellitus [t2d]'],\n",
       " ['http://opensnp.org/data/693.23andme.321', 'no'],\n",
       " ['http://opensnp.org/data/328.23andme.316', 'normal'],\n",
       " ['http://opensnp.org/data/667.23andme.308', 'no'],\n",
       " ['http://opensnp.org/data/637.23andme.293', 'no'],\n",
       " ['http://opensnp.org/data/613.23andme.285', 'no'],\n",
       " ['http://opensnp.org/data/503.23andme.274', 'normal'],\n",
       " ['http://opensnp.org/data/187.23andme.267', 'no'],\n",
       " ['http://opensnp.org/data/580.23andme.265', 'no'],\n",
       " ['http://opensnp.org/data/561.23andme.257', 'normal'],\n",
       " ['http://opensnp.org/data/549.23andme.252', 'normal'],\n",
       " ['http://opensnp.org/data/528.23andme.240', 'no'],\n",
       " ['http://opensnp.org/data/502.23andme.226', 'no'],\n",
       " ['http://opensnp.org/data/495.23andme.223', 'no'],\n",
       " ['http://opensnp.org/data/441.23andme.199', 'no'],\n",
       " ['http://opensnp.org/data/437.23andme.190', 'normal'],\n",
       " ['http://opensnp.org/data/397.23andme.178', 'no'],\n",
       " ['http://opensnp.org/data/11.23andme.176', 'no'],\n",
       " ['http://opensnp.org/data/189.23andme.174', 'normal'],\n",
       " ['http://opensnp.org/data/380.23andme.172', 'no'],\n",
       " ['http://opensnp.org/data/368.23andme.168', 'normal'],\n",
       " ['http://opensnp.org/data/352.23andme.161', 'normal'],\n",
       " ['http://opensnp.org/data/347.23andme.157', 'normal'],\n",
       " ['http://opensnp.org/data/17.23andme.143', 'no'],\n",
       " ['http://opensnp.org/data/276.23andme.110', 'normal'],\n",
       " ['http://opensnp.org/data/141.23andme.60', 'diabetes mellitus [t2d]'],\n",
       " ['http://opensnp.org/data/80.23andme.41', 'no'],\n",
       " ['http://opensnp.org/data/60.23andme.27', 'no'],\n",
       " ['http://opensnp.org/data/42.23andme.18', 'normal'],\n",
       " ['http://opensnp.org/data/1.23andme.9', 'normal'],\n",
       " ['http://opensnp.org/data/8.23andme.2', 'normal']]"
      ]
     },
     "execution_count": 36,
     "metadata": {},
     "output_type": "execute_result"
    }
   ],
   "source": [
    "url = \"https://opensnp.org/phenotypes/\" + open_snp_id + '/rss'\n",
    "\n",
    "root = et.fromstring(requests.get(url).content)\n",
    "\n",
    "xml_samples = [[item.find('dlink').text, item.find('variation').text.strip().lower()] for item in root.findall('./channel/item')]\n",
    "\n",
    "xml_samples"
   ]
  },
  {
   "cell_type": "code",
   "execution_count": 37,
   "id": "0be32e25-86fa-4b50-8b7a-968663f6b8a2",
   "metadata": {},
   "outputs": [
    {
     "data": {
      "text/html": [
       "<div>\n",
       "<style scoped>\n",
       "    .dataframe tbody tr th:only-of-type {\n",
       "        vertical-align: middle;\n",
       "    }\n",
       "\n",
       "    .dataframe tbody tr th {\n",
       "        vertical-align: top;\n",
       "    }\n",
       "\n",
       "    .dataframe thead th {\n",
       "        text-align: right;\n",
       "    }\n",
       "</style>\n",
       "<table border=\"1\" class=\"dataframe\">\n",
       "  <thead>\n",
       "    <tr style=\"text-align: right;\">\n",
       "      <th></th>\n",
       "      <th>dlink</th>\n",
       "      <th>variant</th>\n",
       "    </tr>\n",
       "  </thead>\n",
       "  <tbody>\n",
       "    <tr>\n",
       "      <th>0</th>\n",
       "      <td>http://opensnp.org/data/12349.ancestry.10184</td>\n",
       "      <td>no, but genetically predisposed</td>\n",
       "    </tr>\n",
       "    <tr>\n",
       "      <th>1</th>\n",
       "      <td>http://opensnp.org/data/12299.23andme.10131</td>\n",
       "      <td>no</td>\n",
       "    </tr>\n",
       "    <tr>\n",
       "      <th>2</th>\n",
       "      <td>http://opensnp.org/data/12274.23andme.10108</td>\n",
       "      <td>rs7903146</td>\n",
       "    </tr>\n",
       "    <tr>\n",
       "      <th>3</th>\n",
       "      <td>http://opensnp.org/data/12258.23andme.10097</td>\n",
       "      <td>no</td>\n",
       "    </tr>\n",
       "    <tr>\n",
       "      <th>4</th>\n",
       "      <td>http://opensnp.org/data/12078.ftdna-illumina.9947</td>\n",
       "      <td>no, but genetically predisposed</td>\n",
       "    </tr>\n",
       "    <tr>\n",
       "      <th>...</th>\n",
       "      <td>...</td>\n",
       "      <td>...</td>\n",
       "    </tr>\n",
       "    <tr>\n",
       "      <th>217</th>\n",
       "      <td>http://opensnp.org/data/80.23andme.41</td>\n",
       "      <td>no</td>\n",
       "    </tr>\n",
       "    <tr>\n",
       "      <th>218</th>\n",
       "      <td>http://opensnp.org/data/60.23andme.27</td>\n",
       "      <td>no</td>\n",
       "    </tr>\n",
       "    <tr>\n",
       "      <th>219</th>\n",
       "      <td>http://opensnp.org/data/42.23andme.18</td>\n",
       "      <td>normal</td>\n",
       "    </tr>\n",
       "    <tr>\n",
       "      <th>220</th>\n",
       "      <td>http://opensnp.org/data/1.23andme.9</td>\n",
       "      <td>normal</td>\n",
       "    </tr>\n",
       "    <tr>\n",
       "      <th>221</th>\n",
       "      <td>http://opensnp.org/data/8.23andme.2</td>\n",
       "      <td>normal</td>\n",
       "    </tr>\n",
       "  </tbody>\n",
       "</table>\n",
       "<p>222 rows × 2 columns</p>\n",
       "</div>"
      ],
      "text/plain": [
       "                                                 dlink  \\\n",
       "0         http://opensnp.org/data/12349.ancestry.10184   \n",
       "1          http://opensnp.org/data/12299.23andme.10131   \n",
       "2          http://opensnp.org/data/12274.23andme.10108   \n",
       "3          http://opensnp.org/data/12258.23andme.10097   \n",
       "4    http://opensnp.org/data/12078.ftdna-illumina.9947   \n",
       "..                                                 ...   \n",
       "217              http://opensnp.org/data/80.23andme.41   \n",
       "218              http://opensnp.org/data/60.23andme.27   \n",
       "219              http://opensnp.org/data/42.23andme.18   \n",
       "220                http://opensnp.org/data/1.23andme.9   \n",
       "221                http://opensnp.org/data/8.23andme.2   \n",
       "\n",
       "                             variant  \n",
       "0    no, but genetically predisposed  \n",
       "1                                 no  \n",
       "2                          rs7903146  \n",
       "3                                 no  \n",
       "4    no, but genetically predisposed  \n",
       "..                               ...  \n",
       "217                               no  \n",
       "218                               no  \n",
       "219                           normal  \n",
       "220                           normal  \n",
       "221                           normal  \n",
       "\n",
       "[222 rows x 2 columns]"
      ]
     },
     "execution_count": 37,
     "metadata": {},
     "output_type": "execute_result"
    }
   ],
   "source": [
    "samples_df = pd.DataFrame(xml_samples, columns=['dlink', 'variant'])\n",
    "samples_df"
   ]
  },
  {
   "cell_type": "code",
   "execution_count": 38,
   "id": "8c1fc915-c6c0-4eb8-9591-1d4b505e11dc",
   "metadata": {},
   "outputs": [],
   "source": [
    "!mkdir {phenotype}/no\n",
    "!mkdir {phenotype}/type1\n",
    "!mkdir {phenotype}/type2\n",
    "!mkdir {phenotype}/almost"
   ]
  },
  {
   "cell_type": "code",
   "execution_count": 78,
   "id": "b590e378-5a35-4c4f-b716-019d95b96cb7",
   "metadata": {},
   "outputs": [],
   "source": [
    "corrupted_files = ['6813.23andme.5200', '5211.23andme.3722', '4290.23andme.2910', '4290.23andme.2910', '4245.23andme.2883', \n",
    "                   '4240.23andme.2879', '4178.23andme.2835', '3395.23andme.2208', '3343.23andme.2176', '2199.23andme.1344']\n",
    "\n",
    "def is_known_file_format(dlink):\n",
    "    dlink = dlink.lower()\n",
    "    is_not_corrupted = True\n",
    "    for corrupted in corrupted_files:\n",
    "        is_not_corrupted = is_not_corrupted and corrupted not in dlink\n",
    "    return ('.ancestry.' in dlink or '.23andme.' in dlink) and is_not_corrupted"
   ]
  },
  {
   "cell_type": "code",
   "execution_count": 41,
   "id": "87917e6e-67d0-454f-8782-74c488cc76e5",
   "metadata": {},
   "outputs": [],
   "source": [
    "def filename(dlink):\n",
    "    return sample[1].split('/')[-1]"
   ]
  },
  {
   "cell_type": "code",
   "execution_count": 79,
   "id": "fbac7aee-3f39-4315-b4ab-6b67fb73c6b8",
   "metadata": {
    "scrolled": true
   },
   "outputs": [
    {
     "name": "stdout",
     "output_type": "stream",
     "text": [
      "Reading to 1 : type2diabetes/type2/3334.23andme.2173\n"
     ]
    },
    {
     "name": "stderr",
     "output_type": "stream",
     "text": [
      "/var/folders/3f/_81l_gq14bzc90fk235z5tg40000gn/T/ipykernel_2399/634407162.py:12: DtypeWarning: Columns (1) have mixed types. Specify dtype option on import or set low_memory=False.\n",
      "  data = pd.read_csv(sample[1], comment='#', delimiter=\"\\t\")\n"
     ]
    },
    {
     "name": "stdout",
     "output_type": "stream",
     "text": [
      "Reading to 2 : type2diabetes/no/3104.23andme.1999\n"
     ]
    },
    {
     "name": "stderr",
     "output_type": "stream",
     "text": [
      "/var/folders/3f/_81l_gq14bzc90fk235z5tg40000gn/T/ipykernel_2399/634407162.py:12: DtypeWarning: Columns (1) have mixed types. Specify dtype option on import or set low_memory=False.\n",
      "  data = pd.read_csv(sample[1], comment='#', delimiter=\"\\t\")\n"
     ]
    },
    {
     "name": "stdout",
     "output_type": "stream",
     "text": [
      "Reading to 3 : type2diabetes/type2/3082.23andme.1983\n"
     ]
    },
    {
     "name": "stderr",
     "output_type": "stream",
     "text": [
      "/var/folders/3f/_81l_gq14bzc90fk235z5tg40000gn/T/ipykernel_2399/634407162.py:12: DtypeWarning: Columns (1) have mixed types. Specify dtype option on import or set low_memory=False.\n",
      "  data = pd.read_csv(sample[1], comment='#', delimiter=\"\\t\")\n"
     ]
    },
    {
     "name": "stdout",
     "output_type": "stream",
     "text": [
      "Reading to 4 : type2diabetes/almost/2903.23andme.1843\n"
     ]
    },
    {
     "name": "stderr",
     "output_type": "stream",
     "text": [
      "/var/folders/3f/_81l_gq14bzc90fk235z5tg40000gn/T/ipykernel_2399/634407162.py:12: DtypeWarning: Columns (1) have mixed types. Specify dtype option on import or set low_memory=False.\n",
      "  data = pd.read_csv(sample[1], comment='#', delimiter=\"\\t\")\n"
     ]
    },
    {
     "name": "stdout",
     "output_type": "stream",
     "text": [
      "Reading to 5 : type2diabetes/no/2797.23andme.1771\n"
     ]
    },
    {
     "name": "stderr",
     "output_type": "stream",
     "text": [
      "/var/folders/3f/_81l_gq14bzc90fk235z5tg40000gn/T/ipykernel_2399/634407162.py:12: DtypeWarning: Columns (1) have mixed types. Specify dtype option on import or set low_memory=False.\n",
      "  data = pd.read_csv(sample[1], comment='#', delimiter=\"\\t\")\n"
     ]
    },
    {
     "name": "stdout",
     "output_type": "stream",
     "text": [
      "Reading to 6 : type2diabetes/type2/2718.23andme.1742\n"
     ]
    },
    {
     "name": "stderr",
     "output_type": "stream",
     "text": [
      "/var/folders/3f/_81l_gq14bzc90fk235z5tg40000gn/T/ipykernel_2399/634407162.py:12: DtypeWarning: Columns (1) have mixed types. Specify dtype option on import or set low_memory=False.\n",
      "  data = pd.read_csv(sample[1], comment='#', delimiter=\"\\t\")\n"
     ]
    },
    {
     "name": "stdout",
     "output_type": "stream",
     "text": [
      "Reading to 7 : type2diabetes/no/2645.23andme.1662\n"
     ]
    },
    {
     "name": "stderr",
     "output_type": "stream",
     "text": [
      "/var/folders/3f/_81l_gq14bzc90fk235z5tg40000gn/T/ipykernel_2399/634407162.py:12: DtypeWarning: Columns (1) have mixed types. Specify dtype option on import or set low_memory=False.\n",
      "  data = pd.read_csv(sample[1], comment='#', delimiter=\"\\t\")\n"
     ]
    },
    {
     "name": "stdout",
     "output_type": "stream",
     "text": [
      "Reading to 8 : type2diabetes/no/2576.23andme.1632\n"
     ]
    },
    {
     "name": "stderr",
     "output_type": "stream",
     "text": [
      "/var/folders/3f/_81l_gq14bzc90fk235z5tg40000gn/T/ipykernel_2399/634407162.py:12: DtypeWarning: Columns (1) have mixed types. Specify dtype option on import or set low_memory=False.\n",
      "  data = pd.read_csv(sample[1], comment='#', delimiter=\"\\t\")\n"
     ]
    },
    {
     "name": "stdout",
     "output_type": "stream",
     "text": [
      "Reading to 9 : type2diabetes/almost/2575.23andme.1594\n"
     ]
    },
    {
     "name": "stderr",
     "output_type": "stream",
     "text": [
      "/var/folders/3f/_81l_gq14bzc90fk235z5tg40000gn/T/ipykernel_2399/634407162.py:12: DtypeWarning: Columns (1) have mixed types. Specify dtype option on import or set low_memory=False.\n",
      "  data = pd.read_csv(sample[1], comment='#', delimiter=\"\\t\")\n"
     ]
    },
    {
     "name": "stdout",
     "output_type": "stream",
     "text": [
      "Reading to 10 : type2diabetes/no/2557.23andme.1575\n"
     ]
    },
    {
     "name": "stderr",
     "output_type": "stream",
     "text": [
      "/var/folders/3f/_81l_gq14bzc90fk235z5tg40000gn/T/ipykernel_2399/634407162.py:12: DtypeWarning: Columns (1) have mixed types. Specify dtype option on import or set low_memory=False.\n",
      "  data = pd.read_csv(sample[1], comment='#', delimiter=\"\\t\")\n"
     ]
    },
    {
     "name": "stdout",
     "output_type": "stream",
     "text": [
      "Reading to 11 : type2diabetes/no/2456.23andme.1553\n"
     ]
    },
    {
     "name": "stderr",
     "output_type": "stream",
     "text": [
      "/var/folders/3f/_81l_gq14bzc90fk235z5tg40000gn/T/ipykernel_2399/634407162.py:12: DtypeWarning: Columns (1) have mixed types. Specify dtype option on import or set low_memory=False.\n",
      "  data = pd.read_csv(sample[1], comment='#', delimiter=\"\\t\")\n"
     ]
    },
    {
     "name": "stdout",
     "output_type": "stream",
     "text": [
      "Reading to 12 : type2diabetes/type2/2516.23andme.1545\n"
     ]
    },
    {
     "name": "stderr",
     "output_type": "stream",
     "text": [
      "/var/folders/3f/_81l_gq14bzc90fk235z5tg40000gn/T/ipykernel_2399/634407162.py:12: DtypeWarning: Columns (1) have mixed types. Specify dtype option on import or set low_memory=False.\n",
      "  data = pd.read_csv(sample[1], comment='#', delimiter=\"\\t\")\n"
     ]
    },
    {
     "name": "stdout",
     "output_type": "stream",
     "text": [
      "Reading to 13 : type2diabetes/no/2455.23andme.1519\n"
     ]
    },
    {
     "name": "stderr",
     "output_type": "stream",
     "text": [
      "/var/folders/3f/_81l_gq14bzc90fk235z5tg40000gn/T/ipykernel_2399/634407162.py:12: DtypeWarning: Columns (1) have mixed types. Specify dtype option on import or set low_memory=False.\n",
      "  data = pd.read_csv(sample[1], comment='#', delimiter=\"\\t\")\n"
     ]
    },
    {
     "name": "stdout",
     "output_type": "stream",
     "text": [
      "Reading to 14 : type2diabetes/no/2446.23andme.1510\n"
     ]
    },
    {
     "name": "stderr",
     "output_type": "stream",
     "text": [
      "/var/folders/3f/_81l_gq14bzc90fk235z5tg40000gn/T/ipykernel_2399/634407162.py:12: DtypeWarning: Columns (1) have mixed types. Specify dtype option on import or set low_memory=False.\n",
      "  data = pd.read_csv(sample[1], comment='#', delimiter=\"\\t\")\n"
     ]
    },
    {
     "name": "stdout",
     "output_type": "stream",
     "text": [
      "Reading to 15 : type2diabetes/no/2385.23andme.1478\n"
     ]
    },
    {
     "name": "stderr",
     "output_type": "stream",
     "text": [
      "/var/folders/3f/_81l_gq14bzc90fk235z5tg40000gn/T/ipykernel_2399/634407162.py:12: DtypeWarning: Columns (1) have mixed types. Specify dtype option on import or set low_memory=False.\n",
      "  data = pd.read_csv(sample[1], comment='#', delimiter=\"\\t\")\n"
     ]
    },
    {
     "name": "stdout",
     "output_type": "stream",
     "text": [
      "Reading to 16 : type2diabetes/no/2379.23andme.1475\n"
     ]
    },
    {
     "name": "stderr",
     "output_type": "stream",
     "text": [
      "/var/folders/3f/_81l_gq14bzc90fk235z5tg40000gn/T/ipykernel_2399/634407162.py:12: DtypeWarning: Columns (1) have mixed types. Specify dtype option on import or set low_memory=False.\n",
      "  data = pd.read_csv(sample[1], comment='#', delimiter=\"\\t\")\n"
     ]
    },
    {
     "name": "stdout",
     "output_type": "stream",
     "text": [
      "Reading to 17 : type2diabetes/no/2358.ancestry.1458\n",
      "Reading to 18 : type2diabetes/no/2307.23andme.1417\n"
     ]
    },
    {
     "name": "stderr",
     "output_type": "stream",
     "text": [
      "/var/folders/3f/_81l_gq14bzc90fk235z5tg40000gn/T/ipykernel_2399/634407162.py:12: DtypeWarning: Columns (1) have mixed types. Specify dtype option on import or set low_memory=False.\n",
      "  data = pd.read_csv(sample[1], comment='#', delimiter=\"\\t\")\n"
     ]
    },
    {
     "name": "stdout",
     "output_type": "stream",
     "text": [
      "Reading to 19 : type2diabetes/no/2288.23andme.1401\n"
     ]
    },
    {
     "name": "stderr",
     "output_type": "stream",
     "text": [
      "/var/folders/3f/_81l_gq14bzc90fk235z5tg40000gn/T/ipykernel_2399/634407162.py:12: DtypeWarning: Columns (1) have mixed types. Specify dtype option on import or set low_memory=False.\n",
      "  data = pd.read_csv(sample[1], comment='#', delimiter=\"\\t\")\n"
     ]
    },
    {
     "name": "stdout",
     "output_type": "stream",
     "text": [
      "Reading to 20 : type2diabetes/no/2249.23andme.1384\n"
     ]
    },
    {
     "name": "stderr",
     "output_type": "stream",
     "text": [
      "/var/folders/3f/_81l_gq14bzc90fk235z5tg40000gn/T/ipykernel_2399/634407162.py:12: DtypeWarning: Columns (1) have mixed types. Specify dtype option on import or set low_memory=False.\n",
      "  data = pd.read_csv(sample[1], comment='#', delimiter=\"\\t\")\n"
     ]
    },
    {
     "name": "stdout",
     "output_type": "stream",
     "text": [
      "Reading to 21 : type2diabetes/no/1472.23andme.1376\n",
      "Reading to 22 : type2diabetes/no/2203.ancestry.1347\n",
      "Reading to 23 : type2diabetes/no/2183.23andme.1330\n"
     ]
    },
    {
     "name": "stderr",
     "output_type": "stream",
     "text": [
      "/var/folders/3f/_81l_gq14bzc90fk235z5tg40000gn/T/ipykernel_2399/634407162.py:12: DtypeWarning: Columns (1) have mixed types. Specify dtype option on import or set low_memory=False.\n",
      "  data = pd.read_csv(sample[1], comment='#', delimiter=\"\\t\")\n"
     ]
    },
    {
     "name": "stdout",
     "output_type": "stream",
     "text": [
      "Reading to 24 : type2diabetes/no/1952.23andme.1206\n"
     ]
    },
    {
     "name": "stderr",
     "output_type": "stream",
     "text": [
      "/var/folders/3f/_81l_gq14bzc90fk235z5tg40000gn/T/ipykernel_2399/634407162.py:12: DtypeWarning: Columns (1) have mixed types. Specify dtype option on import or set low_memory=False.\n",
      "  data = pd.read_csv(sample[1], comment='#', delimiter=\"\\t\")\n"
     ]
    },
    {
     "name": "stdout",
     "output_type": "stream",
     "text": [
      "Reading to 25 : type2diabetes/type2/2008.23andme.1193\n"
     ]
    },
    {
     "name": "stderr",
     "output_type": "stream",
     "text": [
      "/var/folders/3f/_81l_gq14bzc90fk235z5tg40000gn/T/ipykernel_2399/634407162.py:12: DtypeWarning: Columns (1) have mixed types. Specify dtype option on import or set low_memory=False.\n",
      "  data = pd.read_csv(sample[1], comment='#', delimiter=\"\\t\")\n"
     ]
    },
    {
     "name": "stdout",
     "output_type": "stream",
     "text": [
      "Reading to 26 : type2diabetes/no/2004.23andme.1189\n"
     ]
    },
    {
     "name": "stderr",
     "output_type": "stream",
     "text": [
      "/var/folders/3f/_81l_gq14bzc90fk235z5tg40000gn/T/ipykernel_2399/634407162.py:12: DtypeWarning: Columns (1) have mixed types. Specify dtype option on import or set low_memory=False.\n",
      "  data = pd.read_csv(sample[1], comment='#', delimiter=\"\\t\")\n"
     ]
    },
    {
     "name": "stdout",
     "output_type": "stream",
     "text": [
      "Reading to 27 : type2diabetes/no/1987.23andme.1174\n"
     ]
    },
    {
     "name": "stderr",
     "output_type": "stream",
     "text": [
      "/var/folders/3f/_81l_gq14bzc90fk235z5tg40000gn/T/ipykernel_2399/634407162.py:12: DtypeWarning: Columns (1) have mixed types. Specify dtype option on import or set low_memory=False.\n",
      "  data = pd.read_csv(sample[1], comment='#', delimiter=\"\\t\")\n"
     ]
    },
    {
     "name": "stdout",
     "output_type": "stream",
     "text": [
      "Reading to 28 : type2diabetes/no/1975.23andme.1162\n"
     ]
    },
    {
     "name": "stderr",
     "output_type": "stream",
     "text": [
      "/var/folders/3f/_81l_gq14bzc90fk235z5tg40000gn/T/ipykernel_2399/634407162.py:12: DtypeWarning: Columns (1) have mixed types. Specify dtype option on import or set low_memory=False.\n",
      "  data = pd.read_csv(sample[1], comment='#', delimiter=\"\\t\")\n"
     ]
    },
    {
     "name": "stdout",
     "output_type": "stream",
     "text": [
      "Reading to 29 : type2diabetes/no/1764.23andme.1025\n"
     ]
    },
    {
     "name": "stderr",
     "output_type": "stream",
     "text": [
      "/var/folders/3f/_81l_gq14bzc90fk235z5tg40000gn/T/ipykernel_2399/634407162.py:12: DtypeWarning: Columns (1) have mixed types. Specify dtype option on import or set low_memory=False.\n",
      "  data = pd.read_csv(sample[1], comment='#', delimiter=\"\\t\")\n"
     ]
    },
    {
     "name": "stdout",
     "output_type": "stream",
     "text": [
      "Reading to 30 : type2diabetes/no/1742.23andme.1010\n"
     ]
    },
    {
     "name": "stderr",
     "output_type": "stream",
     "text": [
      "/var/folders/3f/_81l_gq14bzc90fk235z5tg40000gn/T/ipykernel_2399/634407162.py:12: DtypeWarning: Columns (1) have mixed types. Specify dtype option on import or set low_memory=False.\n",
      "  data = pd.read_csv(sample[1], comment='#', delimiter=\"\\t\")\n"
     ]
    },
    {
     "name": "stdout",
     "output_type": "stream",
     "text": [
      "Reading to 31 : type2diabetes/no/1712.23andme.988\n"
     ]
    },
    {
     "name": "stderr",
     "output_type": "stream",
     "text": [
      "/var/folders/3f/_81l_gq14bzc90fk235z5tg40000gn/T/ipykernel_2399/634407162.py:12: DtypeWarning: Columns (1) have mixed types. Specify dtype option on import or set low_memory=False.\n",
      "  data = pd.read_csv(sample[1], comment='#', delimiter=\"\\t\")\n"
     ]
    },
    {
     "name": "stdout",
     "output_type": "stream",
     "text": [
      "Reading to 32 : type2diabetes/no/1647.ancestry.939\n",
      "Reading to 33 : type2diabetes/no/1532.23andme.844\n"
     ]
    },
    {
     "name": "stderr",
     "output_type": "stream",
     "text": [
      "/var/folders/3f/_81l_gq14bzc90fk235z5tg40000gn/T/ipykernel_2399/634407162.py:12: DtypeWarning: Columns (1) have mixed types. Specify dtype option on import or set low_memory=False.\n",
      "  data = pd.read_csv(sample[1], comment='#', delimiter=\"\\t\")\n"
     ]
    },
    {
     "name": "stdout",
     "output_type": "stream",
     "text": [
      "Reading to 34 : type2diabetes/type1/1499.23andme.818\n"
     ]
    },
    {
     "name": "stderr",
     "output_type": "stream",
     "text": [
      "/var/folders/3f/_81l_gq14bzc90fk235z5tg40000gn/T/ipykernel_2399/634407162.py:12: DtypeWarning: Columns (1) have mixed types. Specify dtype option on import or set low_memory=False.\n",
      "  data = pd.read_csv(sample[1], comment='#', delimiter=\"\\t\")\n"
     ]
    },
    {
     "name": "stdout",
     "output_type": "stream",
     "text": [
      "Reading to 35 : type2diabetes/no/1375.23andme.726\n"
     ]
    },
    {
     "name": "stderr",
     "output_type": "stream",
     "text": [
      "/var/folders/3f/_81l_gq14bzc90fk235z5tg40000gn/T/ipykernel_2399/634407162.py:12: DtypeWarning: Columns (1) have mixed types. Specify dtype option on import or set low_memory=False.\n",
      "  data = pd.read_csv(sample[1], comment='#', delimiter=\"\\t\")\n"
     ]
    },
    {
     "name": "stdout",
     "output_type": "stream",
     "text": [
      "Reading to 36 : type2diabetes/no/1215.23andme.645\n"
     ]
    },
    {
     "name": "stderr",
     "output_type": "stream",
     "text": [
      "/var/folders/3f/_81l_gq14bzc90fk235z5tg40000gn/T/ipykernel_2399/634407162.py:12: DtypeWarning: Columns (1) have mixed types. Specify dtype option on import or set low_memory=False.\n",
      "  data = pd.read_csv(sample[1], comment='#', delimiter=\"\\t\")\n"
     ]
    },
    {
     "name": "stdout",
     "output_type": "stream",
     "text": [
      "Reading to 37 : type2diabetes/no/1173.23andme.609\n"
     ]
    },
    {
     "name": "stderr",
     "output_type": "stream",
     "text": [
      "/var/folders/3f/_81l_gq14bzc90fk235z5tg40000gn/T/ipykernel_2399/634407162.py:12: DtypeWarning: Columns (1) have mixed types. Specify dtype option on import or set low_memory=False.\n",
      "  data = pd.read_csv(sample[1], comment='#', delimiter=\"\\t\")\n"
     ]
    },
    {
     "name": "stdout",
     "output_type": "stream",
     "text": [
      "Reading to 38 : type2diabetes/no/1103.23andme.565\n"
     ]
    },
    {
     "name": "stderr",
     "output_type": "stream",
     "text": [
      "/var/folders/3f/_81l_gq14bzc90fk235z5tg40000gn/T/ipykernel_2399/634407162.py:12: DtypeWarning: Columns (1) have mixed types. Specify dtype option on import or set low_memory=False.\n",
      "  data = pd.read_csv(sample[1], comment='#', delimiter=\"\\t\")\n"
     ]
    },
    {
     "name": "stdout",
     "output_type": "stream",
     "text": [
      "Reading to 39 : type2diabetes/no/1075.23andme.550\n"
     ]
    },
    {
     "name": "stderr",
     "output_type": "stream",
     "text": [
      "/var/folders/3f/_81l_gq14bzc90fk235z5tg40000gn/T/ipykernel_2399/634407162.py:12: DtypeWarning: Columns (1) have mixed types. Specify dtype option on import or set low_memory=False.\n",
      "  data = pd.read_csv(sample[1], comment='#', delimiter=\"\\t\")\n"
     ]
    },
    {
     "name": "stdout",
     "output_type": "stream",
     "text": [
      "Reading to 40 : type2diabetes/no/1035.ancestry.518\n",
      "Reading to 41 : type2diabetes/no/1029.23andme.515\n"
     ]
    },
    {
     "name": "stderr",
     "output_type": "stream",
     "text": [
      "/var/folders/3f/_81l_gq14bzc90fk235z5tg40000gn/T/ipykernel_2399/634407162.py:12: DtypeWarning: Columns (1) have mixed types. Specify dtype option on import or set low_memory=False.\n",
      "  data = pd.read_csv(sample[1], comment='#', delimiter=\"\\t\")\n"
     ]
    },
    {
     "name": "stdout",
     "output_type": "stream",
     "text": [
      "Reading to 42 : type2diabetes/no/1028.23andme.514\n"
     ]
    },
    {
     "name": "stderr",
     "output_type": "stream",
     "text": [
      "/var/folders/3f/_81l_gq14bzc90fk235z5tg40000gn/T/ipykernel_2399/634407162.py:12: DtypeWarning: Columns (1) have mixed types. Specify dtype option on import or set low_memory=False.\n",
      "  data = pd.read_csv(sample[1], comment='#', delimiter=\"\\t\")\n"
     ]
    },
    {
     "name": "stdout",
     "output_type": "stream",
     "text": [
      "Reading to 43 : type2diabetes/no/943.23andme.470\n"
     ]
    },
    {
     "name": "stderr",
     "output_type": "stream",
     "text": [
      "/var/folders/3f/_81l_gq14bzc90fk235z5tg40000gn/T/ipykernel_2399/634407162.py:12: DtypeWarning: Columns (1) have mixed types. Specify dtype option on import or set low_memory=False.\n",
      "  data = pd.read_csv(sample[1], comment='#', delimiter=\"\\t\")\n"
     ]
    },
    {
     "name": "stdout",
     "output_type": "stream",
     "text": [
      "Reading to 44 : type2diabetes/no/918.23andme.454\n"
     ]
    },
    {
     "name": "stderr",
     "output_type": "stream",
     "text": [
      "/var/folders/3f/_81l_gq14bzc90fk235z5tg40000gn/T/ipykernel_2399/634407162.py:12: DtypeWarning: Columns (1) have mixed types. Specify dtype option on import or set low_memory=False.\n",
      "  data = pd.read_csv(sample[1], comment='#', delimiter=\"\\t\")\n"
     ]
    },
    {
     "name": "stdout",
     "output_type": "stream",
     "text": [
      "Reading to 45 : type2diabetes/almost/916.23andme.452\n"
     ]
    },
    {
     "name": "stderr",
     "output_type": "stream",
     "text": [
      "/var/folders/3f/_81l_gq14bzc90fk235z5tg40000gn/T/ipykernel_2399/634407162.py:12: DtypeWarning: Columns (1) have mixed types. Specify dtype option on import or set low_memory=False.\n",
      "  data = pd.read_csv(sample[1], comment='#', delimiter=\"\\t\")\n"
     ]
    },
    {
     "name": "stdout",
     "output_type": "stream",
     "text": [
      "Reading to 46 : type2diabetes/almost/915.23andme.451\n"
     ]
    },
    {
     "name": "stderr",
     "output_type": "stream",
     "text": [
      "/var/folders/3f/_81l_gq14bzc90fk235z5tg40000gn/T/ipykernel_2399/634407162.py:12: DtypeWarning: Columns (1) have mixed types. Specify dtype option on import or set low_memory=False.\n",
      "  data = pd.read_csv(sample[1], comment='#', delimiter=\"\\t\")\n"
     ]
    },
    {
     "name": "stdout",
     "output_type": "stream",
     "text": [
      "Reading to 47 : type2diabetes/no/808.23andme.390\n"
     ]
    },
    {
     "name": "stderr",
     "output_type": "stream",
     "text": [
      "/var/folders/3f/_81l_gq14bzc90fk235z5tg40000gn/T/ipykernel_2399/634407162.py:12: DtypeWarning: Columns (1) have mixed types. Specify dtype option on import or set low_memory=False.\n",
      "  data = pd.read_csv(sample[1], comment='#', delimiter=\"\\t\")\n"
     ]
    },
    {
     "name": "stdout",
     "output_type": "stream",
     "text": [
      "Reading to 48 : type2diabetes/no/806.23andme.388\n"
     ]
    },
    {
     "name": "stderr",
     "output_type": "stream",
     "text": [
      "/var/folders/3f/_81l_gq14bzc90fk235z5tg40000gn/T/ipykernel_2399/634407162.py:12: DtypeWarning: Columns (1) have mixed types. Specify dtype option on import or set low_memory=False.\n",
      "  data = pd.read_csv(sample[1], comment='#', delimiter=\"\\t\")\n"
     ]
    },
    {
     "name": "stdout",
     "output_type": "stream",
     "text": [
      "Reading to 49 : type2diabetes/no/782.23andme.371\n"
     ]
    },
    {
     "name": "stderr",
     "output_type": "stream",
     "text": [
      "/var/folders/3f/_81l_gq14bzc90fk235z5tg40000gn/T/ipykernel_2399/634407162.py:12: DtypeWarning: Columns (1) have mixed types. Specify dtype option on import or set low_memory=False.\n",
      "  data = pd.read_csv(sample[1], comment='#', delimiter=\"\\t\")\n"
     ]
    },
    {
     "name": "stdout",
     "output_type": "stream",
     "text": [
      "Reading to 50 : type2diabetes/no/761.23andme.360\n"
     ]
    },
    {
     "name": "stderr",
     "output_type": "stream",
     "text": [
      "/var/folders/3f/_81l_gq14bzc90fk235z5tg40000gn/T/ipykernel_2399/634407162.py:12: DtypeWarning: Columns (1) have mixed types. Specify dtype option on import or set low_memory=False.\n",
      "  data = pd.read_csv(sample[1], comment='#', delimiter=\"\\t\")\n"
     ]
    },
    {
     "name": "stdout",
     "output_type": "stream",
     "text": [
      "Reading to 51 : type2diabetes/type2/717.23andme.333\n"
     ]
    },
    {
     "name": "stderr",
     "output_type": "stream",
     "text": [
      "/var/folders/3f/_81l_gq14bzc90fk235z5tg40000gn/T/ipykernel_2399/634407162.py:12: DtypeWarning: Columns (1) have mixed types. Specify dtype option on import or set low_memory=False.\n",
      "  data = pd.read_csv(sample[1], comment='#', delimiter=\"\\t\")\n"
     ]
    },
    {
     "name": "stdout",
     "output_type": "stream",
     "text": [
      "Reading to 52 : type2diabetes/no/693.23andme.321\n"
     ]
    },
    {
     "name": "stderr",
     "output_type": "stream",
     "text": [
      "/var/folders/3f/_81l_gq14bzc90fk235z5tg40000gn/T/ipykernel_2399/634407162.py:12: DtypeWarning: Columns (1) have mixed types. Specify dtype option on import or set low_memory=False.\n",
      "  data = pd.read_csv(sample[1], comment='#', delimiter=\"\\t\")\n"
     ]
    },
    {
     "name": "stdout",
     "output_type": "stream",
     "text": [
      "Reading to 53 : type2diabetes/no/328.23andme.316\n"
     ]
    },
    {
     "name": "stderr",
     "output_type": "stream",
     "text": [
      "/var/folders/3f/_81l_gq14bzc90fk235z5tg40000gn/T/ipykernel_2399/634407162.py:12: DtypeWarning: Columns (1) have mixed types. Specify dtype option on import or set low_memory=False.\n",
      "  data = pd.read_csv(sample[1], comment='#', delimiter=\"\\t\")\n"
     ]
    },
    {
     "name": "stdout",
     "output_type": "stream",
     "text": [
      "Reading to 54 : type2diabetes/no/667.23andme.308\n"
     ]
    },
    {
     "name": "stderr",
     "output_type": "stream",
     "text": [
      "/var/folders/3f/_81l_gq14bzc90fk235z5tg40000gn/T/ipykernel_2399/634407162.py:12: DtypeWarning: Columns (1) have mixed types. Specify dtype option on import or set low_memory=False.\n",
      "  data = pd.read_csv(sample[1], comment='#', delimiter=\"\\t\")\n"
     ]
    },
    {
     "name": "stdout",
     "output_type": "stream",
     "text": [
      "Reading to 55 : type2diabetes/no/637.23andme.293\n"
     ]
    },
    {
     "name": "stderr",
     "output_type": "stream",
     "text": [
      "/var/folders/3f/_81l_gq14bzc90fk235z5tg40000gn/T/ipykernel_2399/634407162.py:12: DtypeWarning: Columns (1) have mixed types. Specify dtype option on import or set low_memory=False.\n",
      "  data = pd.read_csv(sample[1], comment='#', delimiter=\"\\t\")\n"
     ]
    },
    {
     "name": "stdout",
     "output_type": "stream",
     "text": [
      "Reading to 56 : type2diabetes/no/613.23andme.285\n"
     ]
    },
    {
     "name": "stderr",
     "output_type": "stream",
     "text": [
      "/var/folders/3f/_81l_gq14bzc90fk235z5tg40000gn/T/ipykernel_2399/634407162.py:12: DtypeWarning: Columns (1) have mixed types. Specify dtype option on import or set low_memory=False.\n",
      "  data = pd.read_csv(sample[1], comment='#', delimiter=\"\\t\")\n"
     ]
    },
    {
     "name": "stdout",
     "output_type": "stream",
     "text": [
      "Reading to 57 : type2diabetes/no/503.23andme.274\n"
     ]
    },
    {
     "name": "stderr",
     "output_type": "stream",
     "text": [
      "/var/folders/3f/_81l_gq14bzc90fk235z5tg40000gn/T/ipykernel_2399/634407162.py:12: DtypeWarning: Columns (1) have mixed types. Specify dtype option on import or set low_memory=False.\n",
      "  data = pd.read_csv(sample[1], comment='#', delimiter=\"\\t\")\n"
     ]
    },
    {
     "name": "stdout",
     "output_type": "stream",
     "text": [
      "Reading to 58 : type2diabetes/no/187.23andme.267\n"
     ]
    },
    {
     "name": "stderr",
     "output_type": "stream",
     "text": [
      "/var/folders/3f/_81l_gq14bzc90fk235z5tg40000gn/T/ipykernel_2399/634407162.py:12: DtypeWarning: Columns (1) have mixed types. Specify dtype option on import or set low_memory=False.\n",
      "  data = pd.read_csv(sample[1], comment='#', delimiter=\"\\t\")\n"
     ]
    },
    {
     "name": "stdout",
     "output_type": "stream",
     "text": [
      "Reading to 59 : type2diabetes/no/580.23andme.265\n",
      "Reading to 60 : type2diabetes/no/561.23andme.257\n"
     ]
    },
    {
     "name": "stderr",
     "output_type": "stream",
     "text": [
      "/var/folders/3f/_81l_gq14bzc90fk235z5tg40000gn/T/ipykernel_2399/634407162.py:12: DtypeWarning: Columns (1) have mixed types. Specify dtype option on import or set low_memory=False.\n",
      "  data = pd.read_csv(sample[1], comment='#', delimiter=\"\\t\")\n"
     ]
    },
    {
     "name": "stdout",
     "output_type": "stream",
     "text": [
      "Reading to 61 : type2diabetes/no/549.23andme.252\n"
     ]
    },
    {
     "name": "stderr",
     "output_type": "stream",
     "text": [
      "/var/folders/3f/_81l_gq14bzc90fk235z5tg40000gn/T/ipykernel_2399/634407162.py:12: DtypeWarning: Columns (1) have mixed types. Specify dtype option on import or set low_memory=False.\n",
      "  data = pd.read_csv(sample[1], comment='#', delimiter=\"\\t\")\n"
     ]
    },
    {
     "name": "stdout",
     "output_type": "stream",
     "text": [
      "Reading to 62 : type2diabetes/no/528.23andme.240\n"
     ]
    },
    {
     "name": "stderr",
     "output_type": "stream",
     "text": [
      "/var/folders/3f/_81l_gq14bzc90fk235z5tg40000gn/T/ipykernel_2399/634407162.py:12: DtypeWarning: Columns (1) have mixed types. Specify dtype option on import or set low_memory=False.\n",
      "  data = pd.read_csv(sample[1], comment='#', delimiter=\"\\t\")\n"
     ]
    },
    {
     "name": "stdout",
     "output_type": "stream",
     "text": [
      "Reading to 63 : type2diabetes/no/502.23andme.226\n"
     ]
    },
    {
     "name": "stderr",
     "output_type": "stream",
     "text": [
      "/var/folders/3f/_81l_gq14bzc90fk235z5tg40000gn/T/ipykernel_2399/634407162.py:12: DtypeWarning: Columns (1) have mixed types. Specify dtype option on import or set low_memory=False.\n",
      "  data = pd.read_csv(sample[1], comment='#', delimiter=\"\\t\")\n"
     ]
    },
    {
     "name": "stdout",
     "output_type": "stream",
     "text": [
      "Reading to 64 : type2diabetes/no/495.23andme.223\n"
     ]
    },
    {
     "name": "stderr",
     "output_type": "stream",
     "text": [
      "/var/folders/3f/_81l_gq14bzc90fk235z5tg40000gn/T/ipykernel_2399/634407162.py:12: DtypeWarning: Columns (1) have mixed types. Specify dtype option on import or set low_memory=False.\n",
      "  data = pd.read_csv(sample[1], comment='#', delimiter=\"\\t\")\n"
     ]
    },
    {
     "name": "stdout",
     "output_type": "stream",
     "text": [
      "Reading to 65 : type2diabetes/no/441.23andme.199\n"
     ]
    },
    {
     "name": "stderr",
     "output_type": "stream",
     "text": [
      "/var/folders/3f/_81l_gq14bzc90fk235z5tg40000gn/T/ipykernel_2399/634407162.py:12: DtypeWarning: Columns (1) have mixed types. Specify dtype option on import or set low_memory=False.\n",
      "  data = pd.read_csv(sample[1], comment='#', delimiter=\"\\t\")\n"
     ]
    },
    {
     "name": "stdout",
     "output_type": "stream",
     "text": [
      "Reading to 66 : type2diabetes/no/437.23andme.190\n"
     ]
    },
    {
     "name": "stderr",
     "output_type": "stream",
     "text": [
      "/var/folders/3f/_81l_gq14bzc90fk235z5tg40000gn/T/ipykernel_2399/634407162.py:12: DtypeWarning: Columns (1) have mixed types. Specify dtype option on import or set low_memory=False.\n",
      "  data = pd.read_csv(sample[1], comment='#', delimiter=\"\\t\")\n"
     ]
    },
    {
     "name": "stdout",
     "output_type": "stream",
     "text": [
      "Reading to 67 : type2diabetes/no/397.23andme.178\n"
     ]
    },
    {
     "name": "stderr",
     "output_type": "stream",
     "text": [
      "/var/folders/3f/_81l_gq14bzc90fk235z5tg40000gn/T/ipykernel_2399/634407162.py:12: DtypeWarning: Columns (1) have mixed types. Specify dtype option on import or set low_memory=False.\n",
      "  data = pd.read_csv(sample[1], comment='#', delimiter=\"\\t\")\n"
     ]
    },
    {
     "name": "stdout",
     "output_type": "stream",
     "text": [
      "Reading to 68 : type2diabetes/no/11.23andme.176\n"
     ]
    },
    {
     "name": "stderr",
     "output_type": "stream",
     "text": [
      "/var/folders/3f/_81l_gq14bzc90fk235z5tg40000gn/T/ipykernel_2399/634407162.py:12: DtypeWarning: Columns (1) have mixed types. Specify dtype option on import or set low_memory=False.\n",
      "  data = pd.read_csv(sample[1], comment='#', delimiter=\"\\t\")\n"
     ]
    },
    {
     "name": "stdout",
     "output_type": "stream",
     "text": [
      "Reading to 69 : type2diabetes/no/189.23andme.174\n"
     ]
    },
    {
     "name": "stderr",
     "output_type": "stream",
     "text": [
      "/var/folders/3f/_81l_gq14bzc90fk235z5tg40000gn/T/ipykernel_2399/634407162.py:12: DtypeWarning: Columns (1) have mixed types. Specify dtype option on import or set low_memory=False.\n",
      "  data = pd.read_csv(sample[1], comment='#', delimiter=\"\\t\")\n"
     ]
    },
    {
     "name": "stdout",
     "output_type": "stream",
     "text": [
      "Reading to 70 : type2diabetes/no/380.23andme.172\n"
     ]
    },
    {
     "name": "stderr",
     "output_type": "stream",
     "text": [
      "/var/folders/3f/_81l_gq14bzc90fk235z5tg40000gn/T/ipykernel_2399/634407162.py:12: DtypeWarning: Columns (1) have mixed types. Specify dtype option on import or set low_memory=False.\n",
      "  data = pd.read_csv(sample[1], comment='#', delimiter=\"\\t\")\n"
     ]
    },
    {
     "name": "stdout",
     "output_type": "stream",
     "text": [
      "Reading to 71 : type2diabetes/no/368.23andme.168\n"
     ]
    },
    {
     "name": "stderr",
     "output_type": "stream",
     "text": [
      "/var/folders/3f/_81l_gq14bzc90fk235z5tg40000gn/T/ipykernel_2399/634407162.py:12: DtypeWarning: Columns (1) have mixed types. Specify dtype option on import or set low_memory=False.\n",
      "  data = pd.read_csv(sample[1], comment='#', delimiter=\"\\t\")\n"
     ]
    },
    {
     "name": "stdout",
     "output_type": "stream",
     "text": [
      "Reading to 72 : type2diabetes/no/352.23andme.161\n"
     ]
    },
    {
     "name": "stderr",
     "output_type": "stream",
     "text": [
      "/var/folders/3f/_81l_gq14bzc90fk235z5tg40000gn/T/ipykernel_2399/634407162.py:12: DtypeWarning: Columns (1) have mixed types. Specify dtype option on import or set low_memory=False.\n",
      "  data = pd.read_csv(sample[1], comment='#', delimiter=\"\\t\")\n"
     ]
    },
    {
     "name": "stdout",
     "output_type": "stream",
     "text": [
      "Reading to 73 : type2diabetes/no/347.23andme.157\n"
     ]
    },
    {
     "name": "stderr",
     "output_type": "stream",
     "text": [
      "/var/folders/3f/_81l_gq14bzc90fk235z5tg40000gn/T/ipykernel_2399/634407162.py:12: DtypeWarning: Columns (1) have mixed types. Specify dtype option on import or set low_memory=False.\n",
      "  data = pd.read_csv(sample[1], comment='#', delimiter=\"\\t\")\n"
     ]
    },
    {
     "name": "stdout",
     "output_type": "stream",
     "text": [
      "Reading to 74 : type2diabetes/no/17.23andme.143\n"
     ]
    },
    {
     "name": "stderr",
     "output_type": "stream",
     "text": [
      "/var/folders/3f/_81l_gq14bzc90fk235z5tg40000gn/T/ipykernel_2399/634407162.py:12: DtypeWarning: Columns (1) have mixed types. Specify dtype option on import or set low_memory=False.\n",
      "  data = pd.read_csv(sample[1], comment='#', delimiter=\"\\t\")\n"
     ]
    },
    {
     "name": "stdout",
     "output_type": "stream",
     "text": [
      "Reading to 75 : type2diabetes/no/276.23andme.110\n"
     ]
    },
    {
     "name": "stderr",
     "output_type": "stream",
     "text": [
      "/var/folders/3f/_81l_gq14bzc90fk235z5tg40000gn/T/ipykernel_2399/634407162.py:12: DtypeWarning: Columns (1) have mixed types. Specify dtype option on import or set low_memory=False.\n",
      "  data = pd.read_csv(sample[1], comment='#', delimiter=\"\\t\")\n"
     ]
    },
    {
     "name": "stdout",
     "output_type": "stream",
     "text": [
      "Reading to 76 : type2diabetes/type2/141.23andme.60\n"
     ]
    },
    {
     "name": "stderr",
     "output_type": "stream",
     "text": [
      "/var/folders/3f/_81l_gq14bzc90fk235z5tg40000gn/T/ipykernel_2399/634407162.py:12: DtypeWarning: Columns (1) have mixed types. Specify dtype option on import or set low_memory=False.\n",
      "  data = pd.read_csv(sample[1], comment='#', delimiter=\"\\t\")\n"
     ]
    },
    {
     "name": "stdout",
     "output_type": "stream",
     "text": [
      "Reading to 77 : type2diabetes/no/80.23andme.41\n"
     ]
    },
    {
     "name": "stderr",
     "output_type": "stream",
     "text": [
      "/var/folders/3f/_81l_gq14bzc90fk235z5tg40000gn/T/ipykernel_2399/634407162.py:12: DtypeWarning: Columns (1) have mixed types. Specify dtype option on import or set low_memory=False.\n",
      "  data = pd.read_csv(sample[1], comment='#', delimiter=\"\\t\")\n"
     ]
    },
    {
     "name": "stdout",
     "output_type": "stream",
     "text": [
      "Reading to 78 : type2diabetes/no/60.23andme.27\n"
     ]
    },
    {
     "name": "stderr",
     "output_type": "stream",
     "text": [
      "/var/folders/3f/_81l_gq14bzc90fk235z5tg40000gn/T/ipykernel_2399/634407162.py:12: DtypeWarning: Columns (1) have mixed types. Specify dtype option on import or set low_memory=False.\n",
      "  data = pd.read_csv(sample[1], comment='#', delimiter=\"\\t\")\n"
     ]
    },
    {
     "name": "stdout",
     "output_type": "stream",
     "text": [
      "Reading to 79 : type2diabetes/no/42.23andme.18\n"
     ]
    },
    {
     "name": "stderr",
     "output_type": "stream",
     "text": [
      "/var/folders/3f/_81l_gq14bzc90fk235z5tg40000gn/T/ipykernel_2399/634407162.py:12: DtypeWarning: Columns (1) have mixed types. Specify dtype option on import or set low_memory=False.\n",
      "  data = pd.read_csv(sample[1], comment='#', delimiter=\"\\t\")\n"
     ]
    },
    {
     "name": "stdout",
     "output_type": "stream",
     "text": [
      "Reading to 80 : type2diabetes/no/1.23andme.9\n"
     ]
    },
    {
     "name": "stderr",
     "output_type": "stream",
     "text": [
      "/var/folders/3f/_81l_gq14bzc90fk235z5tg40000gn/T/ipykernel_2399/634407162.py:12: DtypeWarning: Columns (1) have mixed types. Specify dtype option on import or set low_memory=False.\n",
      "  data = pd.read_csv(sample[1], comment='#', delimiter=\"\\t\")\n"
     ]
    },
    {
     "name": "stdout",
     "output_type": "stream",
     "text": [
      "Reading to 81 : type2diabetes/no/8.23andme.2\n"
     ]
    },
    {
     "name": "stderr",
     "output_type": "stream",
     "text": [
      "/var/folders/3f/_81l_gq14bzc90fk235z5tg40000gn/T/ipykernel_2399/634407162.py:12: DtypeWarning: Columns (1) have mixed types. Specify dtype option on import or set low_memory=False.\n",
      "  data = pd.read_csv(sample[1], comment='#', delimiter=\"\\t\")\n"
     ]
    },
    {
     "name": "stdout",
     "output_type": "stream",
     "text": [
      "Sample size is 81\n"
     ]
    }
   ],
   "source": [
    "cols = ['chromosome', 'position']\n",
    "\n",
    "sample_size = 0\n",
    "sample = 0\n",
    "data = 0\n",
    "\n",
    "for sample in samples_df.itertuples():\n",
    "    if which_phenotype(sample[2]) != 'useless' and is_known_file_format(sample[1]):\n",
    "        sample_size += 1\n",
    "        print('Reading to', str(sample_size), ':', phenotype + '/' + which_phenotype(sample[2]) + '/' + filename(sample[1]))\n",
    "        \n",
    "        data = pd.read_csv(sample[1], comment='#', delimiter=\"\\t\")\n",
    "        if '23andme' in sample[1].lower():\n",
    "            data.columns = ['rsid', 'chromosome', 'position', 'alleles']\n",
    "            data['allele1'] = data['alleles'].astype(str).str[0]\n",
    "            data['allele2'] = data['alleles'].astype(str).str[1]\n",
    "            data = data.drop(columns=['alleles'])\n",
    "        else:\n",
    "            data.columns = ['rsid', 'chromosome', 'position', 'allele1', 'allele2']\n",
    "\n",
    "        data['chr_coordinate'] = data[cols].apply(lambda row: ':'.join(row.values.astype(str)), axis=1)\n",
    "        data.to_csv(phenotype + '/' + which_phenotype(sample[2]) + '/' + filename(sample[1]), index=False)\n",
    "\n",
    "print('Sample size is', sample_size)"
   ]
  },
  {
   "cell_type": "code",
   "execution_count": 82,
   "id": "9ca3203c-b992-49a6-9513-a20caa698c74",
   "metadata": {},
   "outputs": [
    {
     "name": "stdout",
     "output_type": "stream",
     "text": [
      "Should be 1 : type2diabetes/almost/12349.ancestry.10184\n",
      "Should be 2 : type2diabetes/no/12299.23andme.10131\n",
      "Should be 3 : type2diabetes/no/12258.23andme.10097\n",
      "Should be 4 : type2diabetes/almost/12049.23andme.9908\n",
      "Should be 5 : type2diabetes/no/11698.23andme.9613\n",
      "Should be 6 : type2diabetes/no/11531.23andme.9422\n",
      "Should be 7 : type2diabetes/almost/11396.ancestry.9318\n",
      "Should be 8 : type2diabetes/almost/10632.23andme.9278\n",
      "Should be 9 : type2diabetes/type2/10507.23andme.8778\n",
      "Should be 10 : type2diabetes/no/10469.23andme.8739\n",
      "Should be 11 : type2diabetes/type2/9992.23andme.8254\n",
      "Should be 12 : type2diabetes/almost/9974.ancestry.8238\n",
      "Should be 13 : type2diabetes/no/9932.23andme.8194\n",
      "Should be 14 : type2diabetes/almost/9905.ancestry.8173\n",
      "Should be 15 : type2diabetes/no/9869.23andme.8128\n",
      "Should be 16 : type2diabetes/no/9486.23andme.7780\n",
      "Should be 17 : type2diabetes/almost/9243.ancestry.7569\n",
      "Should be 18 : type2diabetes/no/9111.ancestry.7452\n",
      "Should be 19 : type2diabetes/no/8747.23andme.7081\n",
      "Should be 20 : type2diabetes/no/8737.23andme.7075\n",
      "Should be 21 : type2diabetes/almost/8476.23andme.6841\n",
      "Should be 22 : type2diabetes/no/8403.23andme.6731\n",
      "Should be 23 : type2diabetes/no/8319.ancestry.6651\n",
      "Should be 24 : type2diabetes/type2/8139.ancestry.6472\n",
      "Should be 25 : type2diabetes/no/8014.23andme.6350\n",
      "Should be 26 : type2diabetes/no/7876.23andme.6234\n",
      "Should be 27 : type2diabetes/almost/7707.ancestry.6050\n",
      "Should be 28 : type2diabetes/almost/7568.23andme.5914\n",
      "Should be 29 : type2diabetes/type2/7567.ancestry.5913\n",
      "Should be 30 : type2diabetes/type2/7463.ancestry.5810\n",
      "Should be 31 : type2diabetes/no/7450.23andme.5800\n",
      "Should be 32 : type2diabetes/no/4897.23andme.5715\n",
      "Should be 33 : type2diabetes/almost/6248.23andme.5462\n",
      "Should be 34 : type2diabetes/almost/6965.23andme.5362\n",
      "Should be 35 : type2diabetes/type2/6858.23andme.5234\n",
      "Should be 36 : type2diabetes/no/6815.23andme.5202\n",
      "Should be 37 : type2diabetes/no/6761.23andme.5144\n",
      "Should be 38 : type2diabetes/almost/6706.23andme.5099\n",
      "Should be 39 : type2diabetes/almost/6493.ancestry.4913\n",
      "Should be 40 : type2diabetes/no/6263.23andme.4912\n",
      "Should be 41 : type2diabetes/no/6249.23andme.4745\n",
      "Should be 42 : type2diabetes/no/6238.23andme.4736\n",
      "Should be 43 : type2diabetes/almost/6120.23andme.4640\n",
      "Should be 44 : type2diabetes/no/6078.23andme.4589\n",
      "Should be 45 : type2diabetes/no/6077.ancestry.4588\n",
      "Should be 46 : type2diabetes/no/4941.23andme.4573\n",
      "Should be 47 : type2diabetes/almost/5917.23andme.4386\n",
      "Should be 48 : type2diabetes/type2/5884.23andme.4358\n",
      "Should be 49 : type2diabetes/no/5853.23andme.4332\n",
      "Should be 50 : type2diabetes/no/5768.ancestry.4242\n",
      "Should be 51 : type2diabetes/type2/5542.23andme.4035\n",
      "Should be 52 : type2diabetes/type2/5475.23andme.3971\n",
      "Should be 53 : type2diabetes/almost/5397.23andme.3910\n",
      "Should be 54 : type2diabetes/no/949.23andme.3858\n",
      "Should be 55 : type2diabetes/no/5284.23andme.3792\n",
      "Should be 56 : type2diabetes/type2/5267.ancestry.3777\n",
      "Should be 57 : type2diabetes/almost/5168.23andme.3676\n",
      "Should be 58 : type2diabetes/no/5164.23andme.3672\n",
      "Should be 59 : type2diabetes/almost/5098.23andme.3615\n",
      "Should be 60 : type2diabetes/no/5093.23andme.3610\n",
      "Should be 61 : type2diabetes/almost/5044.23andme.3573\n",
      "Should be 62 : type2diabetes/almost/5027.ancestry.3561\n",
      "Should be 63 : type2diabetes/no/5007.23andme.3546\n",
      "Should be 64 : type2diabetes/no/4925.ancestry.3473\n",
      "Should be 65 : type2diabetes/no/4784.23andme.3373\n",
      "Should be 66 : type2diabetes/almost/4742.ancestry.3333\n",
      "Should be 67 : type2diabetes/no/4712.23andme.3311\n",
      "Should be 68 : type2diabetes/type2/2074.23andme.3291\n",
      "Should be 69 : type2diabetes/almost/4552.ancestry.3240\n",
      "Should be 70 : type2diabetes/almost/4504.23andme.3102\n",
      "Should be 71 : type2diabetes/no/4483.23andme.3080\n",
      "Should be 72 : type2diabetes/no/4482.23andme.3079\n",
      "Should be 73 : type2diabetes/no/4297.ancestry.3045\n",
      "Should be 74 : type2diabetes/no/4438.23andme.3042\n",
      "Should be 75 : type2diabetes/no/4428.23andme.3034\n",
      "Should be 76 : type2diabetes/no/4342.23andme.3029\n",
      "Should be 77 : type2diabetes/no/4356.23andme.2928\n",
      "Should be 78 : type2diabetes/type2/4343.23andme.2916\n",
      "Should be 79 : type2diabetes/no/4173.23andme.2831\n",
      "Should be 80 : type2diabetes/no/4140.23andme.2806\n",
      "Should be 81 : type2diabetes/type2/4095.23andme.2771\n",
      "Should be 82 : type2diabetes/no/4034.23andme.2725\n",
      "Should be 83 : type2diabetes/almost/3945.23andme.2644\n",
      "Should be 84 : type2diabetes/no/500.23andme.2637\n",
      "Should be 85 : type2diabetes/no/3934.23andme.2634\n",
      "Should be 86 : type2diabetes/no/3833.ancestry.2550\n",
      "Should be 87 : type2diabetes/no/3812.23andme.2533\n",
      "Should be 88 : type2diabetes/no/814.23andme.2442\n",
      "Should be 89 : type2diabetes/no/3695.23andme.2438\n",
      "Should be 90 : type2diabetes/no/3623.23andme.2380\n",
      "Should be 91 : type2diabetes/no/3547.23andme.2321\n",
      "Should be 92 : type2diabetes/almost/3532.23andme.2305\n",
      "Should be 93 : type2diabetes/type2/3526.23andme.2299\n",
      "Should be 94 : type2diabetes/type2/3449.23andme.2249\n",
      "Should be 95 : type2diabetes/type2/3334.23andme.2173\n",
      "Should be 96 : type2diabetes/no/3104.23andme.1999\n",
      "Should be 97 : type2diabetes/type2/3082.23andme.1983\n",
      "Should be 98 : type2diabetes/almost/2903.23andme.1843\n",
      "Should be 99 : type2diabetes/no/2797.23andme.1771\n",
      "Should be 100 : type2diabetes/type2/2718.23andme.1742\n",
      "Should be 101 : type2diabetes/no/2645.23andme.1662\n",
      "Should be 102 : type2diabetes/no/2576.23andme.1632\n",
      "Should be 103 : type2diabetes/almost/2575.23andme.1594\n",
      "Should be 104 : type2diabetes/no/2557.23andme.1575\n",
      "Should be 105 : type2diabetes/no/2456.23andme.1553\n",
      "Should be 106 : type2diabetes/type2/2516.23andme.1545\n",
      "Should be 107 : type2diabetes/no/2455.23andme.1519\n",
      "Should be 108 : type2diabetes/no/2446.23andme.1510\n",
      "Should be 109 : type2diabetes/no/2385.23andme.1478\n",
      "Should be 110 : type2diabetes/no/2379.23andme.1475\n",
      "Should be 111 : type2diabetes/no/2358.ancestry.1458\n",
      "Should be 112 : type2diabetes/no/2307.23andme.1417\n",
      "Should be 113 : type2diabetes/no/2288.23andme.1401\n",
      "Should be 114 : type2diabetes/no/2249.23andme.1384\n",
      "Should be 115 : type2diabetes/no/1472.23andme.1376\n",
      "Should be 116 : type2diabetes/no/2203.ancestry.1347\n",
      "Should be 117 : type2diabetes/no/2183.23andme.1330\n",
      "Should be 118 : type2diabetes/no/1952.23andme.1206\n",
      "Should be 119 : type2diabetes/type2/2008.23andme.1193\n",
      "Should be 120 : type2diabetes/no/2004.23andme.1189\n",
      "Should be 121 : type2diabetes/no/1987.23andme.1174\n",
      "Should be 122 : type2diabetes/no/1975.23andme.1162\n",
      "Should be 123 : type2diabetes/no/1764.23andme.1025\n",
      "Should be 124 : type2diabetes/no/1742.23andme.1010\n",
      "Should be 125 : type2diabetes/no/1712.23andme.988\n",
      "Should be 126 : type2diabetes/no/1647.ancestry.939\n",
      "Should be 127 : type2diabetes/no/1532.23andme.844\n",
      "Should be 128 : type2diabetes/type1/1499.23andme.818\n",
      "Should be 129 : type2diabetes/no/1375.23andme.726\n",
      "Should be 130 : type2diabetes/no/1215.23andme.645\n",
      "Should be 131 : type2diabetes/no/1173.23andme.609\n",
      "Should be 132 : type2diabetes/no/1103.23andme.565\n",
      "Should be 133 : type2diabetes/no/1075.23andme.550\n",
      "Should be 134 : type2diabetes/no/1035.ancestry.518\n",
      "Should be 135 : type2diabetes/no/1029.23andme.515\n",
      "Should be 136 : type2diabetes/no/1028.23andme.514\n",
      "Should be 137 : type2diabetes/no/943.23andme.470\n",
      "Should be 138 : type2diabetes/no/918.23andme.454\n",
      "Should be 139 : type2diabetes/almost/916.23andme.452\n",
      "Should be 140 : type2diabetes/almost/915.23andme.451\n",
      "Should be 141 : type2diabetes/no/808.23andme.390\n",
      "Should be 142 : type2diabetes/no/806.23andme.388\n",
      "Should be 143 : type2diabetes/no/782.23andme.371\n",
      "Should be 144 : type2diabetes/no/761.23andme.360\n",
      "Should be 145 : type2diabetes/type2/717.23andme.333\n",
      "Should be 146 : type2diabetes/no/693.23andme.321\n",
      "Should be 147 : type2diabetes/no/328.23andme.316\n",
      "Should be 148 : type2diabetes/no/667.23andme.308\n",
      "Should be 149 : type2diabetes/no/637.23andme.293\n",
      "Should be 150 : type2diabetes/no/613.23andme.285\n",
      "Should be 151 : type2diabetes/no/503.23andme.274\n",
      "Should be 152 : type2diabetes/no/187.23andme.267\n",
      "Should be 153 : type2diabetes/no/580.23andme.265\n",
      "Should be 154 : type2diabetes/no/561.23andme.257\n",
      "Should be 155 : type2diabetes/no/549.23andme.252\n",
      "Should be 156 : type2diabetes/no/528.23andme.240\n",
      "Should be 157 : type2diabetes/no/502.23andme.226\n",
      "Should be 158 : type2diabetes/no/495.23andme.223\n",
      "Should be 159 : type2diabetes/no/441.23andme.199\n",
      "Should be 160 : type2diabetes/no/437.23andme.190\n",
      "Should be 161 : type2diabetes/no/397.23andme.178\n",
      "Should be 162 : type2diabetes/no/11.23andme.176\n",
      "Should be 163 : type2diabetes/no/189.23andme.174\n",
      "Should be 164 : type2diabetes/no/380.23andme.172\n",
      "Should be 165 : type2diabetes/no/368.23andme.168\n",
      "Should be 166 : type2diabetes/no/352.23andme.161\n",
      "Should be 167 : type2diabetes/no/347.23andme.157\n",
      "Should be 168 : type2diabetes/no/17.23andme.143\n",
      "Should be 169 : type2diabetes/no/276.23andme.110\n",
      "Should be 170 : type2diabetes/type2/141.23andme.60\n",
      "Should be 171 : type2diabetes/no/80.23andme.41\n",
      "Should be 172 : type2diabetes/no/60.23andme.27\n",
      "Should be 173 : type2diabetes/no/42.23andme.18\n",
      "Should be 174 : type2diabetes/no/1.23andme.9\n",
      "Should be 175 : type2diabetes/no/8.23andme.2\n",
      "Sample size is 175\n"
     ]
    }
   ],
   "source": [
    "sample_size = 0\n",
    "for sample in samples_df.itertuples():\n",
    "    if which_phenotype(sample[2]) != 'useless' and is_known_file_format(sample[1]):\n",
    "        sample_size += 1\n",
    "        print('Should be', str(sample_size), ':', phenotype + '/' + which_phenotype(sample[2]) + '/' + filename(sample[1]))\n",
    "print('Sample size is', sample_size)"
   ]
  },
  {
   "cell_type": "markdown",
   "id": "1dd78f41-efdc-4bca-b647-2ebc7315c323",
   "metadata": {},
   "source": [
    "## Data preparation"
   ]
  },
  {
   "cell_type": "code",
   "execution_count": 8,
   "id": "83609b9a-6a8e-4521-91d1-31a3020e00a0",
   "metadata": {},
   "outputs": [
    {
     "data": {
      "text/html": [
       "<div>\n",
       "<style scoped>\n",
       "    .dataframe tbody tr th:only-of-type {\n",
       "        vertical-align: middle;\n",
       "    }\n",
       "\n",
       "    .dataframe tbody tr th {\n",
       "        vertical-align: top;\n",
       "    }\n",
       "\n",
       "    .dataframe thead th {\n",
       "        text-align: right;\n",
       "    }\n",
       "</style>\n",
       "<table border=\"1\" class=\"dataframe\">\n",
       "  <thead>\n",
       "    <tr style=\"text-align: right;\">\n",
       "      <th></th>\n",
       "      <th>filename</th>\n",
       "      <th>phenotype</th>\n",
       "    </tr>\n",
       "  </thead>\n",
       "  <tbody>\n",
       "    <tr>\n",
       "      <th>0</th>\n",
       "      <td>11396.ancestry.9318</td>\n",
       "      <td>almost</td>\n",
       "    </tr>\n",
       "    <tr>\n",
       "      <th>1</th>\n",
       "      <td>12349.ancestry.10184</td>\n",
       "      <td>almost</td>\n",
       "    </tr>\n",
       "    <tr>\n",
       "      <th>2</th>\n",
       "      <td>4552.ancestry.3240</td>\n",
       "      <td>almost</td>\n",
       "    </tr>\n",
       "    <tr>\n",
       "      <th>3</th>\n",
       "      <td>4742.ancestry.3333</td>\n",
       "      <td>almost</td>\n",
       "    </tr>\n",
       "    <tr>\n",
       "      <th>4</th>\n",
       "      <td>5027.ancestry.3561</td>\n",
       "      <td>almost</td>\n",
       "    </tr>\n",
       "    <tr>\n",
       "      <th>5</th>\n",
       "      <td>6493.ancestry.4913</td>\n",
       "      <td>almost</td>\n",
       "    </tr>\n",
       "    <tr>\n",
       "      <th>6</th>\n",
       "      <td>7707.ancestry.6050</td>\n",
       "      <td>almost</td>\n",
       "    </tr>\n",
       "    <tr>\n",
       "      <th>7</th>\n",
       "      <td>9243.ancestry.7569</td>\n",
       "      <td>almost</td>\n",
       "    </tr>\n",
       "    <tr>\n",
       "      <th>8</th>\n",
       "      <td>9905.ancestry.8173</td>\n",
       "      <td>almost</td>\n",
       "    </tr>\n",
       "    <tr>\n",
       "      <th>9</th>\n",
       "      <td>9974.ancestry.8238</td>\n",
       "      <td>almost</td>\n",
       "    </tr>\n",
       "    <tr>\n",
       "      <th>10</th>\n",
       "      <td>1035.ancestry.518</td>\n",
       "      <td>no</td>\n",
       "    </tr>\n",
       "    <tr>\n",
       "      <th>11</th>\n",
       "      <td>1647.ancestry.939</td>\n",
       "      <td>no</td>\n",
       "    </tr>\n",
       "    <tr>\n",
       "      <th>12</th>\n",
       "      <td>2203.ancestry.1347</td>\n",
       "      <td>no</td>\n",
       "    </tr>\n",
       "    <tr>\n",
       "      <th>13</th>\n",
       "      <td>2358.ancestry.1458</td>\n",
       "      <td>no</td>\n",
       "    </tr>\n",
       "    <tr>\n",
       "      <th>14</th>\n",
       "      <td>3833.ancestry.2550</td>\n",
       "      <td>no</td>\n",
       "    </tr>\n",
       "    <tr>\n",
       "      <th>15</th>\n",
       "      <td>4297.ancestry.3045</td>\n",
       "      <td>no</td>\n",
       "    </tr>\n",
       "    <tr>\n",
       "      <th>16</th>\n",
       "      <td>4925.ancestry.3473</td>\n",
       "      <td>no</td>\n",
       "    </tr>\n",
       "    <tr>\n",
       "      <th>17</th>\n",
       "      <td>5768.ancestry.4242</td>\n",
       "      <td>no</td>\n",
       "    </tr>\n",
       "    <tr>\n",
       "      <th>18</th>\n",
       "      <td>6077.ancestry.4588</td>\n",
       "      <td>no</td>\n",
       "    </tr>\n",
       "    <tr>\n",
       "      <th>19</th>\n",
       "      <td>8319.ancestry.6651</td>\n",
       "      <td>no</td>\n",
       "    </tr>\n",
       "    <tr>\n",
       "      <th>20</th>\n",
       "      <td>9111.ancestry.7452</td>\n",
       "      <td>no</td>\n",
       "    </tr>\n",
       "    <tr>\n",
       "      <th>21</th>\n",
       "      <td>5267.ancestry.3777</td>\n",
       "      <td>type2</td>\n",
       "    </tr>\n",
       "    <tr>\n",
       "      <th>22</th>\n",
       "      <td>7463.ancestry.5810</td>\n",
       "      <td>type2</td>\n",
       "    </tr>\n",
       "    <tr>\n",
       "      <th>23</th>\n",
       "      <td>7567.ancestry.5913</td>\n",
       "      <td>type2</td>\n",
       "    </tr>\n",
       "    <tr>\n",
       "      <th>24</th>\n",
       "      <td>8139.ancestry.6472</td>\n",
       "      <td>type2</td>\n",
       "    </tr>\n",
       "  </tbody>\n",
       "</table>\n",
       "</div>"
      ],
      "text/plain": [
       "                filename phenotype\n",
       "0    11396.ancestry.9318    almost\n",
       "1   12349.ancestry.10184    almost\n",
       "2     4552.ancestry.3240    almost\n",
       "3     4742.ancestry.3333    almost\n",
       "4     5027.ancestry.3561    almost\n",
       "5     6493.ancestry.4913    almost\n",
       "6     7707.ancestry.6050    almost\n",
       "7     9243.ancestry.7569    almost\n",
       "8     9905.ancestry.8173    almost\n",
       "9     9974.ancestry.8238    almost\n",
       "10     1035.ancestry.518        no\n",
       "11     1647.ancestry.939        no\n",
       "12    2203.ancestry.1347        no\n",
       "13    2358.ancestry.1458        no\n",
       "14    3833.ancestry.2550        no\n",
       "15    4297.ancestry.3045        no\n",
       "16    4925.ancestry.3473        no\n",
       "17    5768.ancestry.4242        no\n",
       "18    6077.ancestry.4588        no\n",
       "19    8319.ancestry.6651        no\n",
       "20    9111.ancestry.7452        no\n",
       "21    5267.ancestry.3777     type2\n",
       "22    7463.ancestry.5810     type2\n",
       "23    7567.ancestry.5913     type2\n",
       "24    8139.ancestry.6472     type2"
      ]
     },
     "execution_count": 8,
     "metadata": {},
     "output_type": "execute_result"
    }
   ],
   "source": [
    "samples_df_files_almost = !ls {phenotype}/almost\n",
    "samples_df_files_phenotypes = ['almost' for i in range(len(samples_df_files_almost))]\n",
    "samples_df_files_no = !ls {phenotype}/no\n",
    "samples_df_files_phenotypes += ['no' for i in range(len(samples_df_files_no))]\n",
    "#samples_df_files_type1 = !ls {phenotype}/type1\n",
    "#samples_df_files_phenotypes += ['type1' for i in range(len(samples_df_files_type1))]\n",
    "samples_df_files_type2 = !ls {phenotype}/type2\n",
    "samples_df_files_phenotypes += ['type2' for i in range(len(samples_df_files_type2))]\n",
    "samples_df_files = samples_df_files_almost + samples_df_files_no + samples_df_files_type2\n",
    "    #samples_df_files_type1 + \n",
    "samples_df_files = pd.DataFrame(list(zip(samples_df_files, samples_df_files_phenotypes)),\n",
    "               columns =['filename', 'phenotype'])\n",
    "\n",
    "samples_df_files"
   ]
  },
  {
   "cell_type": "code",
   "execution_count": 9,
   "id": "86c843a2-e0f3-484b-837c-40b0ec2ddeb5",
   "metadata": {},
   "outputs": [
    {
     "data": {
      "text/html": [
       "<div>\n",
       "<style scoped>\n",
       "    .dataframe tbody tr th:only-of-type {\n",
       "        vertical-align: middle;\n",
       "    }\n",
       "\n",
       "    .dataframe tbody tr th {\n",
       "        vertical-align: top;\n",
       "    }\n",
       "\n",
       "    .dataframe thead th {\n",
       "        text-align: right;\n",
       "    }\n",
       "</style>\n",
       "<table border=\"1\" class=\"dataframe\">\n",
       "  <thead>\n",
       "    <tr style=\"text-align: right;\">\n",
       "      <th></th>\n",
       "      <th>chr_name</th>\n",
       "      <th>chr_position</th>\n",
       "      <th>effect_allele</th>\n",
       "      <th>other_allele</th>\n",
       "      <th>effect_weight</th>\n",
       "      <th>effect_type</th>\n",
       "      <th>is_duplicated</th>\n",
       "      <th>accession</th>\n",
       "      <th>row_nr</th>\n",
       "      <th>chr_coordinate</th>\n",
       "    </tr>\n",
       "  </thead>\n",
       "  <tbody>\n",
       "    <tr>\n",
       "      <th>0</th>\n",
       "      <td>8</td>\n",
       "      <td>110552252</td>\n",
       "      <td>G</td>\n",
       "      <td>T</td>\n",
       "      <td>-5.484162</td>\n",
       "      <td>additive</td>\n",
       "      <td>False</td>\n",
       "      <td>PGS002475</td>\n",
       "      <td>8049</td>\n",
       "      <td>8:110552252</td>\n",
       "    </tr>\n",
       "    <tr>\n",
       "      <th>1</th>\n",
       "      <td>8</td>\n",
       "      <td>110551664</td>\n",
       "      <td>T</td>\n",
       "      <td>C</td>\n",
       "      <td>-5.307112</td>\n",
       "      <td>additive</td>\n",
       "      <td>False</td>\n",
       "      <td>PGS002524</td>\n",
       "      <td>46073</td>\n",
       "      <td>8:110551664</td>\n",
       "    </tr>\n",
       "    <tr>\n",
       "      <th>2</th>\n",
       "      <td>11</td>\n",
       "      <td>113370891</td>\n",
       "      <td>A</td>\n",
       "      <td>G</td>\n",
       "      <td>3.925090</td>\n",
       "      <td>additive</td>\n",
       "      <td>False</td>\n",
       "      <td>PGS002524</td>\n",
       "      <td>60360</td>\n",
       "      <td>11:113370891</td>\n",
       "    </tr>\n",
       "    <tr>\n",
       "      <th>3</th>\n",
       "      <td>14</td>\n",
       "      <td>24952289</td>\n",
       "      <td>C</td>\n",
       "      <td>T</td>\n",
       "      <td>-3.891308</td>\n",
       "      <td>additive</td>\n",
       "      <td>False</td>\n",
       "      <td>PGS002475</td>\n",
       "      <td>12566</td>\n",
       "      <td>14:24952289</td>\n",
       "    </tr>\n",
       "    <tr>\n",
       "      <th>4</th>\n",
       "      <td>7</td>\n",
       "      <td>99849572</td>\n",
       "      <td>G</td>\n",
       "      <td>C</td>\n",
       "      <td>-3.780482</td>\n",
       "      <td>additive</td>\n",
       "      <td>False</td>\n",
       "      <td>PGS002573</td>\n",
       "      <td>301</td>\n",
       "      <td>7:99849572</td>\n",
       "    </tr>\n",
       "    <tr>\n",
       "      <th>...</th>\n",
       "      <td>...</td>\n",
       "      <td>...</td>\n",
       "      <td>...</td>\n",
       "      <td>...</td>\n",
       "      <td>...</td>\n",
       "      <td>...</td>\n",
       "      <td>...</td>\n",
       "      <td>...</td>\n",
       "      <td>...</td>\n",
       "      <td>...</td>\n",
       "    </tr>\n",
       "    <tr>\n",
       "      <th>828618</th>\n",
       "      <td>2</td>\n",
       "      <td>71163051</td>\n",
       "      <td>T</td>\n",
       "      <td>C</td>\n",
       "      <td>-0.020000</td>\n",
       "      <td>additive</td>\n",
       "      <td>False</td>\n",
       "      <td>PGS000729</td>\n",
       "      <td>213092</td>\n",
       "      <td>2:71163051</td>\n",
       "    </tr>\n",
       "    <tr>\n",
       "      <th>828619</th>\n",
       "      <td>17</td>\n",
       "      <td>30864001</td>\n",
       "      <td>T</td>\n",
       "      <td>G</td>\n",
       "      <td>0.020000</td>\n",
       "      <td>additive</td>\n",
       "      <td>False</td>\n",
       "      <td>PGS000729</td>\n",
       "      <td>1749933</td>\n",
       "      <td>17:30864001</td>\n",
       "    </tr>\n",
       "    <tr>\n",
       "      <th>828620</th>\n",
       "      <td>5</td>\n",
       "      <td>156355151</td>\n",
       "      <td>A</td>\n",
       "      <td>C</td>\n",
       "      <td>-0.020000</td>\n",
       "      <td>additive</td>\n",
       "      <td>False</td>\n",
       "      <td>PGS000729</td>\n",
       "      <td>692894</td>\n",
       "      <td>5:156355151</td>\n",
       "    </tr>\n",
       "    <tr>\n",
       "      <th>828621</th>\n",
       "      <td>17</td>\n",
       "      <td>30654469</td>\n",
       "      <td>A</td>\n",
       "      <td>G</td>\n",
       "      <td>0.020000</td>\n",
       "      <td>additive</td>\n",
       "      <td>False</td>\n",
       "      <td>PGS000729</td>\n",
       "      <td>1749837</td>\n",
       "      <td>17:30654469</td>\n",
       "    </tr>\n",
       "    <tr>\n",
       "      <th>828622</th>\n",
       "      <td>3</td>\n",
       "      <td>36758259</td>\n",
       "      <td>T</td>\n",
       "      <td>G</td>\n",
       "      <td>0.020000</td>\n",
       "      <td>additive</td>\n",
       "      <td>False</td>\n",
       "      <td>PGS000729</td>\n",
       "      <td>353498</td>\n",
       "      <td>3:36758259</td>\n",
       "    </tr>\n",
       "  </tbody>\n",
       "</table>\n",
       "<p>828623 rows × 10 columns</p>\n",
       "</div>"
      ],
      "text/plain": [
       "       chr_name  chr_position effect_allele other_allele  effect_weight  \\\n",
       "0             8     110552252             G            T      -5.484162   \n",
       "1             8     110551664             T            C      -5.307112   \n",
       "2            11     113370891             A            G       3.925090   \n",
       "3            14      24952289             C            T      -3.891308   \n",
       "4             7      99849572             G            C      -3.780482   \n",
       "...         ...           ...           ...          ...            ...   \n",
       "828618        2      71163051             T            C      -0.020000   \n",
       "828619       17      30864001             T            G       0.020000   \n",
       "828620        5     156355151             A            C      -0.020000   \n",
       "828621       17      30654469             A            G       0.020000   \n",
       "828622        3      36758259             T            G       0.020000   \n",
       "\n",
       "       effect_type  is_duplicated  accession   row_nr chr_coordinate  \n",
       "0         additive          False  PGS002475     8049    8:110552252  \n",
       "1         additive          False  PGS002524    46073    8:110551664  \n",
       "2         additive          False  PGS002524    60360   11:113370891  \n",
       "3         additive          False  PGS002475    12566    14:24952289  \n",
       "4         additive          False  PGS002573      301     7:99849572  \n",
       "...            ...            ...        ...      ...            ...  \n",
       "828618    additive          False  PGS000729   213092     2:71163051  \n",
       "828619    additive          False  PGS000729  1749933    17:30864001  \n",
       "828620    additive          False  PGS000729   692894    5:156355151  \n",
       "828621    additive          False  PGS000729  1749837    17:30654469  \n",
       "828622    additive          False  PGS000729   353498     3:36758259  \n",
       "\n",
       "[828623 rows x 10 columns]"
      ]
     },
     "execution_count": 9,
     "metadata": {},
     "output_type": "execute_result"
    }
   ],
   "source": [
    "combined_weights_reduced"
   ]
  },
  {
   "cell_type": "markdown",
   "id": "79aa632a-3c75-409a-9ef0-f2033b3c589a",
   "metadata": {},
   "source": [
    "# PRS Linear Model Prediction"
   ]
  },
  {
   "cell_type": "code",
   "execution_count": 10,
   "id": "d02a33a7-e6c6-4603-bf35-d1674a42d4f4",
   "metadata": {},
   "outputs": [],
   "source": [
    "def count_effect_alleles(row):\n",
    "    ctr = 0\n",
    "    if row['allele1'] == row['effect_allele']:\n",
    "        ctr += 1\n",
    "    if row['allele2'] == row['effect_allele']:\n",
    "        ctr += 1\n",
    "    return ctr"
   ]
  },
  {
   "cell_type": "code",
   "execution_count": 13,
   "id": "fec36f33-1e38-4cf3-a74c-060a020d69fe",
   "metadata": {
    "scrolled": true
   },
   "outputs": [
    {
     "name": "stdout",
     "output_type": "stream",
     "text": [
      "Thu May 9 15:51:18 MSK 2024\n",
      "Thu May 9 15:53:10 MSK 2024\n"
     ]
    },
    {
     "data": {
      "text/html": [
       "<div>\n",
       "<style scoped>\n",
       "    .dataframe tbody tr th:only-of-type {\n",
       "        vertical-align: middle;\n",
       "    }\n",
       "\n",
       "    .dataframe tbody tr th {\n",
       "        vertical-align: top;\n",
       "    }\n",
       "\n",
       "    .dataframe thead th {\n",
       "        text-align: right;\n",
       "    }\n",
       "</style>\n",
       "<table border=\"1\" class=\"dataframe\">\n",
       "  <thead>\n",
       "    <tr style=\"text-align: right;\">\n",
       "      <th></th>\n",
       "      <th>filename</th>\n",
       "      <th>phenotype</th>\n",
       "      <th>linear_prs</th>\n",
       "    </tr>\n",
       "  </thead>\n",
       "  <tbody>\n",
       "    <tr>\n",
       "      <th>0</th>\n",
       "      <td>11396.ancestry.9318</td>\n",
       "      <td>almost</td>\n",
       "      <td>8.456608</td>\n",
       "    </tr>\n",
       "    <tr>\n",
       "      <th>1</th>\n",
       "      <td>12349.ancestry.10184</td>\n",
       "      <td>almost</td>\n",
       "      <td>-23.528224</td>\n",
       "    </tr>\n",
       "    <tr>\n",
       "      <th>2</th>\n",
       "      <td>4552.ancestry.3240</td>\n",
       "      <td>almost</td>\n",
       "      <td>-379.524950</td>\n",
       "    </tr>\n",
       "    <tr>\n",
       "      <th>3</th>\n",
       "      <td>4742.ancestry.3333</td>\n",
       "      <td>almost</td>\n",
       "      <td>-372.635160</td>\n",
       "    </tr>\n",
       "    <tr>\n",
       "      <th>4</th>\n",
       "      <td>5027.ancestry.3561</td>\n",
       "      <td>almost</td>\n",
       "      <td>-16.080513</td>\n",
       "    </tr>\n",
       "    <tr>\n",
       "      <th>5</th>\n",
       "      <td>6493.ancestry.4913</td>\n",
       "      <td>almost</td>\n",
       "      <td>40.996302</td>\n",
       "    </tr>\n",
       "    <tr>\n",
       "      <th>6</th>\n",
       "      <td>7707.ancestry.6050</td>\n",
       "      <td>almost</td>\n",
       "      <td>13.518172</td>\n",
       "    </tr>\n",
       "    <tr>\n",
       "      <th>7</th>\n",
       "      <td>9243.ancestry.7569</td>\n",
       "      <td>almost</td>\n",
       "      <td>0.453317</td>\n",
       "    </tr>\n",
       "    <tr>\n",
       "      <th>8</th>\n",
       "      <td>9905.ancestry.8173</td>\n",
       "      <td>almost</td>\n",
       "      <td>-10.197623</td>\n",
       "    </tr>\n",
       "    <tr>\n",
       "      <th>9</th>\n",
       "      <td>9974.ancestry.8238</td>\n",
       "      <td>almost</td>\n",
       "      <td>-26.281231</td>\n",
       "    </tr>\n",
       "    <tr>\n",
       "      <th>10</th>\n",
       "      <td>1035.ancestry.518</td>\n",
       "      <td>no</td>\n",
       "      <td>-383.407322</td>\n",
       "    </tr>\n",
       "    <tr>\n",
       "      <th>11</th>\n",
       "      <td>1647.ancestry.939</td>\n",
       "      <td>no</td>\n",
       "      <td>-364.745140</td>\n",
       "    </tr>\n",
       "    <tr>\n",
       "      <th>12</th>\n",
       "      <td>2203.ancestry.1347</td>\n",
       "      <td>no</td>\n",
       "      <td>-358.255513</td>\n",
       "    </tr>\n",
       "    <tr>\n",
       "      <th>13</th>\n",
       "      <td>2358.ancestry.1458</td>\n",
       "      <td>no</td>\n",
       "      <td>-381.662671</td>\n",
       "    </tr>\n",
       "    <tr>\n",
       "      <th>14</th>\n",
       "      <td>3833.ancestry.2550</td>\n",
       "      <td>no</td>\n",
       "      <td>-370.743156</td>\n",
       "    </tr>\n",
       "    <tr>\n",
       "      <th>15</th>\n",
       "      <td>4297.ancestry.3045</td>\n",
       "      <td>no</td>\n",
       "      <td>-371.613618</td>\n",
       "    </tr>\n",
       "    <tr>\n",
       "      <th>16</th>\n",
       "      <td>4925.ancestry.3473</td>\n",
       "      <td>no</td>\n",
       "      <td>-272.660010</td>\n",
       "    </tr>\n",
       "    <tr>\n",
       "      <th>17</th>\n",
       "      <td>5768.ancestry.4242</td>\n",
       "      <td>no</td>\n",
       "      <td>-375.179709</td>\n",
       "    </tr>\n",
       "    <tr>\n",
       "      <th>18</th>\n",
       "      <td>6077.ancestry.4588</td>\n",
       "      <td>no</td>\n",
       "      <td>-1.034384</td>\n",
       "    </tr>\n",
       "    <tr>\n",
       "      <th>19</th>\n",
       "      <td>8319.ancestry.6651</td>\n",
       "      <td>no</td>\n",
       "      <td>5.898174</td>\n",
       "    </tr>\n",
       "    <tr>\n",
       "      <th>20</th>\n",
       "      <td>9111.ancestry.7452</td>\n",
       "      <td>no</td>\n",
       "      <td>-37.573942</td>\n",
       "    </tr>\n",
       "    <tr>\n",
       "      <th>21</th>\n",
       "      <td>5267.ancestry.3777</td>\n",
       "      <td>type2</td>\n",
       "      <td>-356.028694</td>\n",
       "    </tr>\n",
       "    <tr>\n",
       "      <th>22</th>\n",
       "      <td>7463.ancestry.5810</td>\n",
       "      <td>type2</td>\n",
       "      <td>17.720220</td>\n",
       "    </tr>\n",
       "    <tr>\n",
       "      <th>23</th>\n",
       "      <td>7567.ancestry.5913</td>\n",
       "      <td>type2</td>\n",
       "      <td>0.584682</td>\n",
       "    </tr>\n",
       "    <tr>\n",
       "      <th>24</th>\n",
       "      <td>8139.ancestry.6472</td>\n",
       "      <td>type2</td>\n",
       "      <td>-33.433826</td>\n",
       "    </tr>\n",
       "  </tbody>\n",
       "</table>\n",
       "</div>"
      ],
      "text/plain": [
       "                filename phenotype  linear_prs\n",
       "0    11396.ancestry.9318    almost    8.456608\n",
       "1   12349.ancestry.10184    almost  -23.528224\n",
       "2     4552.ancestry.3240    almost -379.524950\n",
       "3     4742.ancestry.3333    almost -372.635160\n",
       "4     5027.ancestry.3561    almost  -16.080513\n",
       "5     6493.ancestry.4913    almost   40.996302\n",
       "6     7707.ancestry.6050    almost   13.518172\n",
       "7     9243.ancestry.7569    almost    0.453317\n",
       "8     9905.ancestry.8173    almost  -10.197623\n",
       "9     9974.ancestry.8238    almost  -26.281231\n",
       "10     1035.ancestry.518        no -383.407322\n",
       "11     1647.ancestry.939        no -364.745140\n",
       "12    2203.ancestry.1347        no -358.255513\n",
       "13    2358.ancestry.1458        no -381.662671\n",
       "14    3833.ancestry.2550        no -370.743156\n",
       "15    4297.ancestry.3045        no -371.613618\n",
       "16    4925.ancestry.3473        no -272.660010\n",
       "17    5768.ancestry.4242        no -375.179709\n",
       "18    6077.ancestry.4588        no   -1.034384\n",
       "19    8319.ancestry.6651        no    5.898174\n",
       "20    9111.ancestry.7452        no  -37.573942\n",
       "21    5267.ancestry.3777     type2 -356.028694\n",
       "22    7463.ancestry.5810     type2   17.720220\n",
       "23    7567.ancestry.5913     type2    0.584682\n",
       "24    8139.ancestry.6472     type2  -33.433826"
      ]
     },
     "execution_count": 13,
     "metadata": {},
     "output_type": "execute_result"
    }
   ],
   "source": [
    "sample = 0\n",
    "data = 0\n",
    "linear_prs = []\n",
    "\n",
    "!echo $(date)\n",
    "\n",
    "for sample in samples_df_files.itertuples():\n",
    "    data = pd.read_csv(phenotype + '/' + sample[2] + '/' + sample[1])\n",
    "        \n",
    "    data = combined_weights_reduced.merge(data, on='chr_coordinate', how='left').fillna(0)\n",
    "    data['effect_alleles_count'] = data.apply(count_effect_alleles, axis=1)\n",
    "    data['prs_val'] = data['effect_alleles_count'] * data['effect_weight']\n",
    "    linear_prs.append(data['prs_val'].values.sum())\n",
    "\n",
    "!echo $(date)\n",
    "\n",
    "samples_df_files['linear_prs'] = linear_prs\n",
    "samples_df_files.to_csv(phenotype + '/Linear_PRS_df_' + str(top_n_percentage), index=False)\n",
    "samples_df_files"
   ]
  },
  {
   "cell_type": "markdown",
   "id": "59ba0cd7-3a8e-4884-b8fb-2643876b23aa",
   "metadata": {},
   "source": [
    "# Plots"
   ]
  },
  {
   "cell_type": "code",
   "execution_count": 14,
   "id": "44f548c0-4046-4fa9-a902-6a66ed489559",
   "metadata": {},
   "outputs": [],
   "source": [
    "import matplotlib.pyplot as plt\n",
    "import seaborn as sns"
   ]
  },
  {
   "cell_type": "code",
   "execution_count": 15,
   "id": "4149fee9-c2df-4cef-af01-ffaa481854cf",
   "metadata": {},
   "outputs": [],
   "source": [
    "!mkdir {phenotype}/pic"
   ]
  },
  {
   "cell_type": "code",
   "execution_count": 16,
   "id": "a47cb743-5b78-47a9-b79f-e455ce9c78d2",
   "metadata": {},
   "outputs": [
    {
     "data": {
      "image/png": "[encoded data removed]",
      "text/plain": [
       "<Figure size 640x480 with 1 Axes>"
      ]
     },
     "metadata": {},
     "output_type": "display_data"
    }
   ],
   "source": [
    "groups = samples_df_files.groupby('phenotype')\n",
    "\n",
    "f = plt.figure()\n",
    "\n",
    "for name, group in groups:\n",
    "    plt.plot(group.index, group['linear_prs'], marker='o', linestyle='', markersize=5, label=name)\n",
    "\n",
    "plt.legend()\n",
    "plt.show()\n",
    "\n",
    "f.savefig(phenotype + '/pic/gouped_' + str(top_n_percentage) + '.pdf', bbox_inches='tight')"
   ]
  },
  {
   "cell_type": "code",
   "execution_count": 17,
   "id": "7f499e2f-3fdb-4c76-9a31-51f8140ce609",
   "metadata": {},
   "outputs": [
    {
     "data": {
      "image/png": "[encoded data removed]",
      "text/plain": [
       "<Figure size 640x480 with 1 Axes>"
      ]
     },
     "metadata": {},
     "output_type": "display_data"
    }
   ],
   "source": [
    "fontsize = 10\n",
    "\n",
    "fig, axes = plt.subplots()\n",
    "# plot violin. 'Scenario' is according to x axis, \n",
    "# 'LMP' is y axis, data is your dataframe. ax - is axes instance\n",
    "sns_plot = sns.violinplot(x='phenotype', y='linear_prs', data=samples_df_files, ax=axes, hue=\"phenotype\")\n",
    "axes.set_title('Linear PRS amongst Type 2 Diabetes dataset')\n",
    "\n",
    "axes.yaxis.grid(True)\n",
    "axes.set_xlabel('Phenotype')\n",
    "axes.set_ylabel('Linear PRS')\n",
    "\n",
    "sns_plot.get_figure().savefig(phenotype + '/pic/violin_' + str(top_n_percentage) + '.png')"
   ]
  },
  {
   "cell_type": "code",
   "execution_count": 18,
   "id": "8d691542-8adb-4e8e-9b12-b5b68c2d6c41",
   "metadata": {},
   "outputs": [
    {
     "data": {
      "image/png": "[encoded data removed]",
      "text/plain": [
       "<Figure size 640x480 with 1 Axes>"
      ]
     },
     "metadata": {},
     "output_type": "display_data"
    }
   ],
   "source": [
    "sns_plot = sns.boxplot(data=samples_df_files, x=\"phenotype\", y=\"linear_prs\", hue=\"phenotype\")\n",
    "\n",
    "sns_plot.get_figure().savefig(phenotype + '/pic/box_' + str(top_n_percentage) + '.png')"
   ]
  }
 ],
 "metadata": {
  "kernelspec": {
   "display_name": "Python 3 (ipykernel)",
   "language": "python",
   "name": "python3"
  },
  "language_info": {
   "codemirror_mode": {
    "name": "ipython",
    "version": 3
   },
   "file_extension": ".py",
   "mimetype": "text/x-python",
   "name": "python",
   "nbconvert_exporter": "python",
   "pygments_lexer": "ipython3",
   "version": "3.12.2"
  }
 },
 "nbformat": 4,
 "nbformat_minor": 5
}
